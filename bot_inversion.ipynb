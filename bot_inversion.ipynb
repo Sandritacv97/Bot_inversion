{
  "cells": [
    {
      "cell_type": "markdown",
      "metadata": {
        "id": "view-in-github",
        "colab_type": "text"
      },
      "source": [
        "<a href=\"https://colab.research.google.com/github/Sandritacv97/Bot_inversion/blob/main/bot_inversion.ipynb\" target=\"_parent\"><img src=\"https://colab.research.google.com/assets/colab-badge.svg\" alt=\"Open In Colab\"/></a>"
      ]
    },
    {
      "cell_type": "markdown",
      "id": "03D8-I5xiQLa",
      "metadata": {
        "id": "03D8-I5xiQLa"
      },
      "source": []
    },
    {
      "cell_type": "markdown",
      "id": "X2UCvCaZiUxM",
      "metadata": {
        "id": "X2UCvCaZiUxM"
      },
      "source": [
        "descarga de librerias"
      ]
    },
    {
      "cell_type": "code",
      "execution_count": null,
      "id": "wJ9UjZB3dhBm",
      "metadata": {
        "colab": {
          "base_uri": "https://localhost:8080/"
        },
        "id": "wJ9UjZB3dhBm",
        "outputId": "36b08278-58a1-42ff-8150-fa0d51b91f8e"
      },
      "outputs": [
        {
          "name": "stdout",
          "output_type": "stream",
          "text": [
            "Librerías cargadas correctamente.\n"
          ]
        }
      ],
      "source": [
        "import pandas as pd\n",
        "import numpy as np\n",
        "import sqlite3\n",
        "\n",
        "print(\"Librerías cargadas correctamente.\")\n"
      ]
    },
    {
      "cell_type": "markdown",
      "id": "qmoul31tiN7C",
      "metadata": {
        "id": "qmoul31tiN7C"
      },
      "source": [
        "bas de datos"
      ]
    },
    {
      "cell_type": "code",
      "execution_count": null,
      "id": "QC-rBZ6kfT1E",
      "metadata": {
        "colab": {
          "base_uri": "https://localhost:8080/"
        },
        "id": "QC-rBZ6kfT1E",
        "outputId": "1a0e4ab1-e10d-40be-e41b-4f7bb1c816df"
      },
      "outputs": [
        {
          "output_type": "stream",
          "name": "stdout",
          "text": [
            "Base de datos y tabla creadas correctamente.\n"
          ]
        }
      ],
      "source": [
        "import sqlite3\n",
        "\n",
        "# Crear o conectar a la base de datos\n",
        "conexion = sqlite3.connect(\"bot_inversion.db\")\n",
        "\n",
        "# Crear un cursor para ejecutar comandos SQL\n",
        "cursor = conexion.cursor()\n",
        "\n",
        "# Crear una tabla básica para registrar operaciones\n",
        "cursor.execute(\"\"\"\n",
        "CREATE TABLE IF NOT EXISTS operaciones (\n",
        "    id INTEGER PRIMARY KEY AUTOINCREMENT,\n",
        "    activo TEXT NOT NULL,\n",
        "    fecha TEXT NOT NULL,\n",
        "    precio_entrada REAL NOT NULL,\n",
        "    precio_salida REAL,\n",
        "    ganancia_perdida REAL,\n",
        "    tipo_operacion TEXT NOT NULL\n",
        ")\n",
        "\"\"\")\n",
        "\n",
        "# Confirmar los cambios\n",
        "conexion.commit()\n",
        "\n",
        "print(\"Base de datos y tabla creadas correctamente.\")\n"
      ]
    },
    {
      "cell_type": "markdown",
      "id": "aM3cdDmPiGjl",
      "metadata": {
        "id": "aM3cdDmPiGjl"
      },
      "source": [
        "test.prueba"
      ]
    },
    {
      "cell_type": "code",
      "execution_count": null,
      "id": "7JlZEHCMhaU8",
      "metadata": {
        "colab": {
          "base_uri": "https://localhost:8080/"
        },
        "id": "7JlZEHCMhaU8",
        "outputId": "f4ffb9a5-de86-49df-c519-e10e85f31e16"
      },
      "outputs": [
        {
          "name": "stdout",
          "output_type": "stream",
          "text": [
            "Operación registrada correctamente.\n"
          ]
        }
      ],
      "source": [
        "# Insertar una operación de ejemplo\n",
        "cursor.execute(\"\"\"\n",
        "INSERT INTO operaciones (a correctamente.\")ctivo, fecha, precio_entrada, precio_salida, ganancia_perdida, tipo_operacion)\n",
        "VALUES ('AAPL', '2024-12-19', 150.00, NULL, NULL, 'compra')\n",
        "\"\"\")\n",
        "\n",
        "# Confirmar los cambios\n",
        "conexion.commit()\n",
        "\n",
        "print(\"Operación registrada"
      ]
    },
    {
      "cell_type": "markdown",
      "id": "edoKhxKCh_6I",
      "metadata": {
        "id": "edoKhxKCh_6I"
      },
      "source": [
        "Codigo de conteo de registro"
      ]
    },
    {
      "cell_type": "code",
      "execution_count": null,
      "id": "7V4NGhrLh4pp",
      "metadata": {
        "colab": {
          "base_uri": "https://localhost:8080/"
        },
        "id": "7V4NGhrLh4pp",
        "outputId": "92914aaa-7698-477f-d5e6-a9cbf0a9687f"
      },
      "outputs": [
        {
          "name": "stdout",
          "output_type": "stream",
          "text": [
            "(1, 'AAPL', '2024-12-19', 150.0, None, None, 'compra')\n",
            "(2, 'AAPL', '2024-12-19', 175.5, 180.0, 4.5, 'Compra')\n",
            "\n",
            "Se encontraron 2 registros en la tabla.\n"
          ]
        }
      ],
      "source": [
        "# Consultar todos los registros de la tabla\n",
        "cursor.execute(\"SELECT * FROM operaciones\")\n",
        "registros = cursor.fetchall()\n",
        "\n",
        "# Mostrar los registros\n",
        "for registro in registros:\n",
        "    print(registro)\n",
        "\n",
        "print(f\"\\nSe encontraron {len(registros)} registros en la tabla.\")"
      ]
    },
    {
      "cell_type": "markdown",
      "id": "tWJtVOEri5M5",
      "metadata": {
        "id": "tWJtVOEri5M5"
      },
      "source": [
        "test.prueba"
      ]
    },
    {
      "cell_type": "code",
      "execution_count": null,
      "id": "GHM7KB9aizoX",
      "metadata": {
        "colab": {
          "base_uri": "https://localhost:8080/"
        },
        "id": "GHM7KB9aizoX",
        "outputId": "c93e238c-dd0f-4551-84f3-332e9e25f5e5"
      },
      "outputs": [
        {
          "name": "stdout",
          "output_type": "stream",
          "text": [
            "Nueva operación agregada correctamente.\n"
          ]
        }
      ],
      "source": [
        "# Insertar una nueva operación en la tabla\n",
        "nueva_operacion = (\n",
        "    \"AAPL\",  # Activo (ejemplo: Apple)\n",
        "    \"2024-12-19\",  # Fecha\n",
        "    175.50,  # Precio de entrada\n",
        "    180.00,  # Precio de salida\n",
        "    4.50,  # Ganancia o pérdida\n",
        "    \"Compra\"  # Tipo de operación\n",
        ")\n",
        "\n",
        "cursor.execute(\"\"\"\n",
        "    INSERT INTO operaciones (activo, fecha, precio_entrada, precio_salida, ganancia_perdida, tipo_operacion)\n",
        "    VALUES (?, ?, ?, ?, ?, ?)\n",
        "\"\"\", nueva_operacion)\n",
        "\n",
        "# Confirmar los cambios\n",
        "conexion.commit()\n",
        "\n",
        "print(\"Nueva operación agregada correctamente.\")"
      ]
    },
    {
      "cell_type": "markdown",
      "id": "E-Tma1PljmKd",
      "metadata": {
        "id": "E-Tma1PljmKd"
      },
      "source": [
        "codigo de consultas utiles"
      ]
    },
    {
      "cell_type": "code",
      "execution_count": null,
      "id": "IDZ2cIfija12",
      "metadata": {
        "colab": {
          "base_uri": "https://localhost:8080/"
        },
        "id": "IDZ2cIfija12",
        "outputId": "fc9551a9-e6e4-4bb0-8e07-1aa4076cab01"
      },
      "outputs": [
        {
          "name": "stdout",
          "output_type": "stream",
          "text": [
            "Operaciones de tipo 'Compra':\n",
            "(2, 'AAPL', '2024-12-19', 175.5, 180.0, 4.5, 'Compra')\n",
            "(3, 'AAPL', '2024-12-19', 175.5, 180.75, 5.25, 'Compra')\n",
            "\n",
            "Ganancia/Pérdida total registrada: 9.75\n",
            "\n",
            "Últimas 5 operaciones registradas:\n",
            "(4, 'AAPL', '2024-12-19', 175.25, None, None, 'compra')\n",
            "(3, 'AAPL', '2024-12-19', 175.5, 180.75, 5.25, 'Compra')\n",
            "(2, 'AAPL', '2024-12-19', 175.5, 180.0, 4.5, 'Compra')\n",
            "(1, 'AAPL', '2024-12-19', 150.0, None, None, 'compra')\n"
          ]
        }
      ],
      "source": [
        "# Consultar todas las operaciones de tipo \"Compra\"\n",
        "cursor.execute(\"\"\"\n",
        "    SELECT * FROM operaciones WHERE tipo_operacion = 'Compra'\n",
        "\"\"\")\n",
        "compras = cursor.fetchall()\n",
        "print(\"Operaciones de tipo 'Compra':\")\n",
        "for compra in compras:\n",
        "    print(compra)\n",
        "\n",
        "# Calcular la ganancia/pérdida total\n",
        "cursor.execute(\"\"\"\n",
        "    SELECT SUM(ganancia_perdida) FROM operaciones\n",
        "\"\"\")\n",
        "ganancia_total = cursor.fetchone()[0]\n",
        "print(f\"\\nGanancia/Pérdida total registrada: {ganancia_total}\")\n",
        "\n",
        "# Obtener las 5 operaciones más recientes\n",
        "cursor.execute(\"\"\"\n",
        "    SELECT * FROM operaciones ORDER BY id DESC LIMIT 5\n",
        "\"\"\")\n",
        "recientes = cursor.fetchall()\n",
        "print(\"\\nÚltimas 5 operaciones registradas:\")\n",
        "for reciente in recientes:\n",
        "    print(reciente)"
      ]
    },
    {
      "cell_type": "code",
      "execution_count": null,
      "id": "MCzaDvLQkadI",
      "metadata": {
        "colab": {
          "base_uri": "https://localhost:8080/"
        },
        "id": "MCzaDvLQkadI",
        "outputId": "772d7689-795f-4f80-a8e5-9e620af63961"
      },
      "outputs": [
        {
          "name": "stdout",
          "output_type": "stream",
          "text": [
            "Operación registrada: AAPL, Compra\n"
          ]
        }
      ],
      "source": [
        "registrar_operacion(conexion, \"AAPL\", \"2024-12-19\", 175.50, 180.75, 5.25, \"Compra\")"
      ]
    },
    {
      "cell_type": "code",
      "execution_count": null,
      "id": "EUgujHPLkeg3",
      "metadata": {
        "colab": {
          "base_uri": "https://localhost:8080/"
        },
        "id": "EUgujHPLkeg3",
        "outputId": "0078804b-e2c3-4b67-ea73-2d5a31814173"
      },
      "outputs": [
        {
          "name": "stdout",
          "output_type": "stream",
          "text": [
            "Operaciones de tipo 'Compra': [(2, 'AAPL', '2024-12-19', 175.5, 180.0, 4.5, 'Compra'), (3, 'AAPL', '2024-12-19', 175.5, 180.75, 5.25, 'Compra')]\n"
          ]
        }
      ],
      "source": [
        "compras = consultar_operaciones_por_tipo(conexion, \"Compra\")\n",
        "print(\"Operaciones de tipo 'Compra':\", compras)"
      ]
    },
    {
      "cell_type": "code",
      "execution_count": null,
      "id": "N3ukCg3bkhTK",
      "metadata": {
        "colab": {
          "base_uri": "https://localhost:8080/"
        },
        "id": "N3ukCg3bkhTK",
        "outputId": "a3aa50f6-afe7-4ed7-fa72-f85e2db9e474"
      },
      "outputs": [
        {
          "name": "stdout",
          "output_type": "stream",
          "text": [
            "Ganancia/Pérdida total: 9.75\n"
          ]
        }
      ],
      "source": [
        "ganancia_total = calcular_ganancia_total(conexion)\n",
        "print(\"Ganancia/Pérdida total:\", ganancia_total)"
      ]
    },
    {
      "cell_type": "code",
      "execution_count": null,
      "id": "xAYM-_XikkRB",
      "metadata": {
        "colab": {
          "base_uri": "https://localhost:8080/"
        },
        "id": "xAYM-_XikkRB",
        "outputId": "337396da-5f29-4175-ff13-90cb261082eb"
      },
      "outputs": [
        {
          "name": "stdout",
          "output_type": "stream",
          "text": [
            "Últimas operaciones: [(3, 'AAPL', '2024-12-19', 175.5, 180.75, 5.25, 'Compra'), (2, 'AAPL', '2024-12-19', 175.5, 180.0, 4.5, 'Compra'), (1, 'AAPL', '2024-12-19', 150.0, None, None, 'compra')]\n"
          ]
        }
      ],
      "source": [
        "recientes = obtener_operaciones_recientes(conexion, limite=3)\n",
        "print(\"Últimas operaciones:\", recientes)"
      ]
    },
    {
      "cell_type": "code",
      "execution_count": null,
      "id": "QbOxgQ2Tnekv",
      "metadata": {
        "colab": {
          "base_uri": "https://localhost:8080/"
        },
        "id": "QbOxgQ2Tnekv",
        "outputId": "2fd8c852-a7b5-480b-a7b1-421327796d59"
      },
      "outputs": [
        {
          "output_type": "stream",
          "name": "stdout",
          "text": [
            "Oportunidades detectadas: [{'activo': 'TSLA', 'precio_entrada': 755.1, 'tipo_operacion': 'compra'}]\n"
          ]
        }
      ],
      "source": [
        "import random\n",
        "\n",
        "def detectar_oportunidades(datos_mercado):\n",
        "    \"\"\"\n",
        "    Analiza datos de mercado y decide si abrir una operación.\n",
        "\n",
        "    Parámetros:\n",
        "        datos_mercado (list): Lista de diccionarios con información de mercado.\n",
        "\n",
        "    Retorna:\n",
        "        list: Operaciones sugeridas basadas en los datos.\n",
        "    \"\"\"\n",
        "    operaciones_sugeridas = []\n",
        "\n",
        "    for dato in datos_mercado:\n",
        "        activo = dato['activo']\n",
        "        precio_actual = dato['precio']\n",
        "        volatilidad = dato['volatilidad']\n",
        "\n",
        "        # Lógica para identificar oportunidad (ejemplo: alta volatilidad)\n",
        "        if volatilidad > 2 and random.choice([True, False]):\n",
        "            operaciones_sugeridas.append({\n",
        "                \"activo\": activo,\n",
        "                \"precio_entrada\": precio_actual,\n",
        "                \"tipo_operacion\": \"compra\" if random.choice([True, False]) else \"venta\"\n",
        "            })\n",
        "\n",
        "    return operaciones_sugeridas\n",
        "\n",
        "# Simulamos datos de mercado\n",
        "datos_simulados = [\n",
        "    {\"activo\": \"AAPL\", \"precio\": 175.25, \"volatilidad\": 3.2},\n",
        "    {\"activo\": \"GOOG\", \"precio\": 1320.50, \"volatilidad\": 1.5},\n",
        "    {\"activo\": \"TSLA\", \"precio\": 755.10, \"volatilidad\": 2.7},\n",
        "]\n",
        "\n",
        "# Detectamos oportunidades\n",
        "oportunidades = detectar_oportunidades(datos_simulados)\n",
        "print(\"Oportunidades detectadas:\", oportunidades)"
      ]
    },
    {
      "cell_type": "code",
      "source": [],
      "metadata": {
        "id": "Scp5p6FGU3Uv"
      },
      "id": "Scp5p6FGU3Uv",
      "execution_count": null,
      "outputs": []
    },
    {
      "cell_type": "code",
      "execution_count": null,
      "id": "JalsuucloPPf",
      "metadata": {
        "colab": {
          "base_uri": "https://localhost:8080/"
        },
        "id": "JalsuucloPPf",
        "outputId": "2eb1c497-0400-487e-b732-06623090de22"
      },
      "outputs": [
        {
          "name": "stdout",
          "output_type": "stream",
          "text": [
            "Operación registrada: AAPL, compra\n",
            "Todas las oportunidades detectadas han sido registradas en la base de datos.\n"
          ]
        }
      ],
      "source": [
        "# Registrar las oportunidades en la base de datos\n",
        "for oportunidad in oportunidades:\n",
        "    registrar_operacion(\n",
        "        conexion,\n",
        "        activo=oportunidad[\"activo\"],\n",
        "        fecha=\"2024-12-19\",  # Fecha fija para pruebas; en producción usaríamos datetime.now()\n",
        "        precio_entrada=oportunidad[\"precio_entrada\"],\n",
        "        precio_salida=None,  # Aún no cerrada\n",
        "        ganancia_perdida=None,  # No calculada todavía\n",
        "        tipo_operacion=oportunidad[\"tipo_operacion\"]\n",
        "    )\n",
        "\n",
        "print(\"Todas las oportunidades detectadas han sido registradas en la base de datos.\")"
      ]
    },
    {
      "cell_type": "code",
      "execution_count": null,
      "id": "6X8oPBGgpHDz",
      "metadata": {
        "colab": {
          "base_uri": "https://localhost:8080/"
        },
        "id": "6X8oPBGgpHDz",
        "outputId": "b1cce91d-26ec-423e-af5f-9a7554981555"
      },
      "outputs": [
        {
          "name": "stdout",
          "output_type": "stream",
          "text": [
            "Operaciones registradas en la base de datos:\n",
            "(1, 'AAPL', '2024-12-19', 150.0, None, None, 'compra')\n",
            "(2, 'AAPL', '2024-12-19', 175.5, 180.0, 4.5, 'Compra')\n",
            "(3, 'AAPL', '2024-12-19', 175.5, 180.75, 5.25, 'Compra')\n",
            "(4, 'AAPL', '2024-12-19', 175.25, None, None, 'compra')\n",
            "(5, 'GOOG', '2024-12-19', 2800.5, None, None, 'Compra')\n",
            "(6, 'TSLA', '2024-12-19', 720.75, None, None, 'Venta')\n",
            "(7, 'MSFT', '2024-12-19', 310.1, None, None, 'Compra')\n"
          ]
        }
      ],
      "source": [
        "# Consultar todos los registros de la tabla operaciones\n",
        "cursor.execute(\"SELECT * FROM operaciones\")\n",
        "registros = cursor.fetchall()\n",
        "\n",
        "# Mostrar los registros obtenidos\n",
        "print(\"Operaciones registradas en la base de datos:\")\n",
        "for registro in registros:\n",
        "    print(registro)"
      ]
    },
    {
      "cell_type": "code",
      "execution_count": null,
      "id": "WJ-smXjlpzeH",
      "metadata": {
        "id": "WJ-smXjlpzeH"
      },
      "outputs": [],
      "source": [
        "import random\n",
        "\n",
        "# Función para cerrar operaciones abiertas\n",
        "def cerrar_operaciones(conexion):\n",
        "    cursor = conexion.cursor()\n",
        "\n",
        "    # Buscar operaciones abiertas (precio_salida es NULL)\n",
        "    cursor.execute(\"\"\"\n",
        "        SELECT id, activo, precio_entrada FROM operaciones WHERE precio_salida IS NULL\n",
        "    \"\"\")\n",
        "    operaciones_abiertas = cursor.fetchall()\n",
        "\n",
        "    print(f\"Operaciones abiertas encontradas: {len(operaciones_abiertas)}\")\n",
        "\n",
        "    for operacion in operaciones_abiertas:\n",
        "        id_operacion, activo, precio_entrada = operacion\n",
        "\n",
        "        # Simular un precio de salida\n",
        "        precio_salida = round(precio_entrada * (1 + random.uniform(-0.05, 0.05)), 2)  # +/- 5%\n",
        "        ganancia_perdida = round(precio_salida - precio_entrada, 2)\n",
        "\n",
        "        # Actualizar la operación con el precio de salida y la ganancia/pérdida\n",
        "        cursor.execute(\"\"\"\n",
        "            UPDATE operaciones\n",
        "            SET precio_salida = ?, ganancia_perdida = ?\n",
        "            WHERE id = ?\n",
        "        \"\"\", (precio_salida, ganancia_perdida, id_operacion))\n",
        "\n",
        "        print(f\"Operación cerrada: ID {id_operacion} | Activo: {activo} | Precio salida: {precio_salida} | Ganancia/Pérdida: {ganancia_perdida}\")\n",
        "\n",
        "    conexion.commit()\n",
        "    print(\"Todas las operaciones abiertas han sido cerradas.\")"
      ]
    },
    {
      "cell_type": "code",
      "execution_count": null,
      "id": "npzIaODTqWEw",
      "metadata": {
        "colab": {
          "base_uri": "https://localhost:8080/"
        },
        "id": "npzIaODTqWEw",
        "outputId": "ffa17e9c-9c62-4311-dcc8-917d7267e43f"
      },
      "outputs": [
        {
          "name": "stdout",
          "output_type": "stream",
          "text": [
            "Nuevas operaciones abiertas agregadas.\n"
          ]
        }
      ],
      "source": [
        "# Insertar nuevas operaciones abiertas\n",
        "nuevas_operaciones = [\n",
        "    (\"GOOG\", \"2024-12-19\", 2800.50, None, None, \"Compra\"),\n",
        "    (\"TSLA\", \"2024-12-19\", 720.75, None, None, \"Venta\"),\n",
        "    (\"MSFT\", \"2024-12-19\", 310.10, None, None, \"Compra\")\n",
        "]\n",
        "\n",
        "for operacion in nuevas_operaciones:\n",
        "    cursor.execute(\"\"\"\n",
        "        INSERT INTO operaciones (activo, fecha, precio_entrada, precio_salida, ganancia_perdida, tipo_operacion)\n",
        "        VALUES (?, ?, ?, ?, ?, ?)\n",
        "    \"\"\", operacion)\n",
        "\n",
        "conexion.commit()\n",
        "print(\"Nuevas operaciones abiertas agregadas.\")"
      ]
    },
    {
      "cell_type": "code",
      "execution_count": null,
      "id": "IUKltt-FsIUV",
      "metadata": {
        "colab": {
          "base_uri": "https://localhost:8080/"
        },
        "id": "IUKltt-FsIUV",
        "outputId": "f2e61e1f-3db0-4cd8-8123-af6a39f860fb"
      },
      "outputs": [
        {
          "name": "stdout",
          "output_type": "stream",
          "text": [
            "        fecha      precio       SMA_5         RSI\n",
            "0  2024-12-01  137.454012         NaN         NaN\n",
            "1  2024-12-02  195.071431         NaN  100.000000\n",
            "2  2024-12-03  173.199394         NaN   72.484355\n",
            "3  2024-12-04  159.865848         NaN   62.072351\n",
            "4  2024-12-05  115.601864  156.238510   42.029824\n",
            "5  2024-12-06  115.599452  151.867598   42.029085\n",
            "6  2024-12-07  105.808361  134.014984   39.227415\n",
            "7  2024-12-08  186.617615  136.698628   60.796183\n",
            "8  2024-12-09  160.111501  136.747759   54.456699\n",
            "9  2024-12-10  170.807258  147.788837   56.295640\n",
            "10 2024-12-11  102.058449  145.080637   44.695552\n",
            "11 2024-12-12  196.990985  163.317162   56.945955\n",
            "12 2024-12-13  183.244264  162.642492   55.176149\n",
            "13 2024-12-14  121.233911  154.866974   48.391916\n",
            "14 2024-12-15  118.182497  144.342021   48.100885\n",
            "15 2024-12-16  118.340451  147.598422   41.472857\n",
            "16 2024-12-17  130.424224  134.285069   45.140662\n",
            "17 2024-12-18  152.475643  128.131345   49.176765\n",
            "18 2024-12-19  143.194502  132.523463   53.333501\n",
            "19 2024-12-20  129.122914  134.711547   51.580073\n"
          ]
        }
      ],
      "source": [
        "import pandas as pd\n",
        "import numpy as np\n",
        "\n",
        "# Simular datos históricos\n",
        "np.random.seed(42)  # Para reproducibilidad\n",
        "datos = {\n",
        "    \"fecha\": pd.date_range(start=\"2024-12-01\", periods=20),\n",
        "    \"precio\": np.random.uniform(100, 200, 20)\n",
        "}\n",
        "df = pd.DataFrame(datos)\n",
        "\n",
        "# Calcular la Media Móvil Simple (SMA)\n",
        "df[\"SMA_5\"] = df[\"precio\"].rolling(window=5).mean()\n",
        "\n",
        "# Calcular el RSI\n",
        "def calcular_rsi(precios, ventana=14):\n",
        "    delta = precios.diff(1)\n",
        "    ganancias = delta.where(delta > 0, 0)\n",
        "    perdidas = -delta.where(delta < 0, 0)\n",
        "    avg_ganancias = ganancias.rolling(window=ventana, min_periods=1).mean()\n",
        "    avg_perdidas = perdidas.rolling(window=ventana, min_periods=1).mean()\n",
        "    rs = avg_ganancias / avg_perdidas\n",
        "    rsi = 100 - (100 / (1 + rs))\n",
        "    return rsi\n",
        "\n",
        "df[\"RSI\"] = calcular_rsi(df[\"precio\"])\n",
        "\n",
        "# Mostrar los datos con indicadores\n",
        "print(df)"
      ]
    },
    {
      "cell_type": "code",
      "execution_count": null,
      "id": "bNTjT4_wvV3a",
      "metadata": {
        "colab": {
          "base_uri": "https://localhost:8080/"
        },
        "id": "bNTjT4_wvV3a",
        "outputId": "e993bf33-31fb-4796-a794-d7421c4af18f"
      },
      "outputs": [
        {
          "name": "stdout",
          "output_type": "stream",
          "text": [
            "Asignación de capital:\n",
            "AAPL: 166.67\n",
            "GOOG: 222.22\n",
            "TSLA: 166.67\n"
          ]
        }
      ],
      "source": [
        "def calcular_capital_dinamico(saldo_actual, max_riesgo_global=0.1, oportunidades=[]):\n",
        "    \"\"\"\n",
        "    Calcula el capital dinámico permitido para operaciones basándose en el saldo actual,\n",
        "    el riesgo global máximo y las oportunidades detectadas.\n",
        "\n",
        "    Parámetros:\n",
        "        saldo_actual (float): Saldo disponible en ese momento.\n",
        "        max_riesgo_global (float): Porcentaje máximo del saldo a arriesgar globalmente.\n",
        "        oportunidades (list): Lista de oportunidades detectadas.\n",
        "\n",
        "    Retorna:\n",
        "        dict: Capital asignado a cada oportunidad o mensaje de protección.\n",
        "    \"\"\"\n",
        "    if saldo_actual <= 0:\n",
        "        return \"Protección activada: saldo negativo. No se permiten más operaciones.\"\n",
        "\n",
        "    # Calcular el riesgo total permitido\n",
        "    riesgo_total = saldo_actual * max_riesgo_global\n",
        "    capital_asignado = {}\n",
        "\n",
        "    if not oportunidades:\n",
        "        return \"No se detectaron oportunidades hoy.\"\n",
        "\n",
        "    # Dividir el riesgo entre las oportunidades ajustadas por volatilidad\n",
        "    for oportunidad in oportunidades:\n",
        "        volatilidad = oportunidad.get(\"volatilidad\", 1)\n",
        "        ajuste_volatilidad = max(1 / volatilidad, 0.5)  # Reducir capital si la volatilidad es alta\n",
        "        capital = riesgo_total * ajuste_volatilidad / len(oportunidades)\n",
        "        capital_asignado[oportunidad[\"activo\"]] = capital\n",
        "\n",
        "    return capital_asignado\n",
        "\n",
        "# Simulación\n",
        "saldo_actual = 10000  # Saldo inicial dinámico\n",
        "oportunidades_simuladas = [\n",
        "    {\"activo\": \"AAPL\", \"precio\": 175.25, \"volatilidad\": 2.8},\n",
        "    {\"activo\": \"GOOG\", \"precio\": 1320.50, \"volatilidad\": 1.5},\n",
        "    {\"activo\": \"TSLA\", \"precio\": 755.10, \"volatilidad\": 3.0}\n",
        "]\n",
        "\n",
        "capital_asignado = calcular_capital_dinamico(saldo_actual, max_riesgo_global=0.1, oportunidades=oportunidades_simuladas)\n",
        "\n",
        "print(\"Asignación de capital:\")\n",
        "for activo, capital in capital_asignado.items():\n",
        "    print(f\"{activo}: {capital:.2f}\")\n",
        "\n",
        "if isinstance(capital_asignado, str):\n",
        "    print(capital_asignado)  # Mensaje de protección"
      ]
    },
    {
      "cell_type": "code",
      "execution_count": null,
      "id": "rf4wFGfGv84x",
      "metadata": {
        "colab": {
          "base_uri": "https://localhost:8080/"
        },
        "id": "rf4wFGfGv84x",
        "outputId": "b6de0f95-54cf-4982-a6a8-4873f8666a58"
      },
      "outputs": [
        {
          "name": "stdout",
          "output_type": "stream",
          "text": [
            "Límite diario alcanzado: 7 operaciones realizadas hoy.\n"
          ]
        }
      ],
      "source": [
        "def gestionar_operaciones(conexion, saldo_actual, max_riesgo_global=0.1, max_operaciones_diarias=5):\n",
        "    \"\"\"\n",
        "    Gestiona las operaciones del bot en un día, respetando el capital dinámico,\n",
        "    los límites de riesgo y el número máximo de operaciones diarias.\n",
        "\n",
        "    Parámetros:\n",
        "        conexion (sqlite3.Connection): Conexión a la base de datos.\n",
        "        saldo_actual (float): Saldo disponible en ese momento.\n",
        "        max_riesgo_global (float): Porcentaje máximo del saldo a arriesgar globalmente.\n",
        "        max_operaciones_diarias (int): Número máximo de operaciones permitidas en un día.\n",
        "\n",
        "    Retorna:\n",
        "        str: Mensaje con el resultado de la gestión diaria.\n",
        "    \"\"\"\n",
        "    cursor = conexion.cursor()\n",
        "    fecha_actual = \"2024-12-19\"  # En producción usaríamos datetime.now().strftime(\"%Y-%m-%d\")\n",
        "\n",
        "    # Consultar operaciones realizadas hoy\n",
        "    cursor.execute(\"\"\"\n",
        "        SELECT COUNT(*) FROM operaciones WHERE fecha = ?\n",
        "    \"\"\", (fecha_actual,))\n",
        "    operaciones_hoy = cursor.fetchone()[0]\n",
        "\n",
        "    if operaciones_hoy >= max_operaciones_diarias:\n",
        "        return f\"Límite diario alcanzado: {operaciones_hoy} operaciones realizadas hoy.\"\n",
        "\n",
        "    # Simular oportunidades de trading\n",
        "    oportunidades_simuladas = [\n",
        "        {\"activo\": \"AAPL\", \"precio\": 175.25, \"volatilidad\": 2.8},\n",
        "        {\"activo\": \"GOOG\", \"precio\": 1320.50, \"volatilidad\": 1.5},\n",
        "        {\"activo\": \"TSLA\", \"precio\": 755.10, \"volatilidad\": 3.0}\n",
        "    ]\n",
        "\n",
        "    # Calcular capital dinámico para cada oportunidad\n",
        "    capital_asignado = calcular_capital_dinamico(saldo_actual, max_riesgo_global, oportunidades_simuladas)\n",
        "\n",
        "    if isinstance(capital_asignado, str):\n",
        "        return capital_asignado  # Mensaje de protección (saldo negativo o sin oportunidades)\n",
        "\n",
        "    # Registrar operaciones basadas en las oportunidades y el capital asignado\n",
        "    for oportunidad in oportunidades_simuladas:\n",
        "        activo = oportunidad[\"activo\"]\n",
        "        precio = oportunidad[\"precio\"]\n",
        "        volatilidad = oportunidad[\"volatilidad\"]\n",
        "        capital = capital_asignado[activo]\n",
        "\n",
        "        # Simular un precio de salida\n",
        "        precio_salida = round(precio * (1 + random.uniform(-0.05, 0.05)), 2)\n",
        "        ganancia_perdida = round(precio_salida - precio, 2)\n",
        "\n",
        "        # Registrar operación en la base de datos\n",
        "        registrar_operacion(\n",
        "            conexion,\n",
        "            activo=activo,\n",
        "            fecha=fecha_actual,\n",
        "            precio_entrada=precio,\n",
        "            precio_salida=precio_salida,\n",
        "            ganancia_perdida=ganancia_perdida,\n",
        "            tipo_operacion=\"compra\"  # O \"venta\" según lógica\n",
        "        )\n",
        "        print(f\"Operación registrada: {activo} | Entrada: {precio} | Salida: {precio_salida} | Ganancia/Pérdida: {ganancia_perdida}\")\n",
        "\n",
        "    return \"Gestión diaria completada con éxito.\"\n",
        "\n",
        "# Ejemplo de uso\n",
        "resultado = gestionar_operaciones(conexion, saldo_actual=10000)\n",
        "print(resultado)"
      ]
    },
    {
      "cell_type": "code",
      "execution_count": null,
      "id": "zKJY5QsEyvhB",
      "metadata": {
        "id": "zKJY5QsEyvhB"
      },
      "outputs": [],
      "source": [
        "def calcular_stop_loss_dinamico(precio_entrada, volatilidad):\n",
        "    \"\"\"\n",
        "    Calcula el Stop-Loss dinámico basado en la volatilidad del activo.\n",
        "\n",
        "    Parámetros:\n",
        "        precio_entrada (float): Precio al que se entra en la operación.\n",
        "        volatilidad (float): Porcentaje de volatilidad del activo.\n",
        "\n",
        "    Retorna:\n",
        "        float: Precio de Stop-Loss.\n",
        "    \"\"\"\n",
        "    return precio_entrada * (1 - (volatilidad / 100))"
      ]
    },
    {
      "cell_type": "code",
      "execution_count": null,
      "id": "rxmqGk-Ky0i5",
      "metadata": {
        "id": "rxmqGk-Ky0i5"
      },
      "outputs": [],
      "source": [
        "def gestionar_trailing_stop(precio_entrada, precio_actual, trailing_stop=0.02):\n",
        "    \"\"\"\n",
        "    Ajusta el Trailing Stop basado en el movimiento del precio.\n",
        "\n",
        "    Parámetros:\n",
        "        precio_entrada (float): Precio inicial de la operación.\n",
        "        precio_actual (float): Precio actual del activo.\n",
        "        trailing_stop (float): Porcentaje del precio actual para ajustar el stop.\n",
        "\n",
        "    Retorna:\n",
        "        float: Nuevo nivel de Stop-Loss.\n",
        "    \"\"\"\n",
        "    nuevo_stop = precio_actual * (1 - trailing_stop)\n",
        "    return max(precio_entrada, nuevo_stop)"
      ]
    },
    {
      "cell_type": "code",
      "execution_count": null,
      "id": "pughd6O9y7zz",
      "metadata": {
        "id": "pughd6O9y7zz"
      },
      "outputs": [],
      "source": [
        "def calcular_rsi(precios, ventana=14):\n",
        "    \"\"\"\n",
        "    Calcula el RSI (Relative Strength Index) para confirmar decisiones.\n",
        "\n",
        "    Parámetros:\n",
        "        precios (pd.Series): Serie de precios del activo.\n",
        "        ventana (int): Número de periodos para el cálculo.\n",
        "\n",
        "    Retorna:\n",
        "        float: Valor del RSI.\n",
        "    \"\"\"\n",
        "    delta = precios.diff(1)\n",
        "    ganancias = delta.where(delta > 0, 0)\n",
        "    perdidas = -delta.where(delta < 0, 0)\n",
        "    avg_ganancias = ganancias.rolling(window=ventana, min_periods=1).mean()\n",
        "    avg_perdidas = perdidas.rolling(window=ventana, min_periods=1).mean()\n",
        "    rs = avg_ganancias / avg_perdidas\n",
        "    rsi = 100 - (100 / (1 + rs))\n",
        "    return rsi.iloc[-1]"
      ]
    },
    {
      "cell_type": "code",
      "execution_count": null,
      "id": "S0S4MziOzBC5",
      "metadata": {
        "colab": {
          "base_uri": "https://localhost:8080/"
        },
        "id": "S0S4MziOzBC5",
        "outputId": "f8deca0f-eb75-4631-ba8d-039febac3c08"
      },
      "outputs": [
        {
          "name": "stdout",
          "output_type": "stream",
          "text": [
            "Mantener operación.\n"
          ]
        }
      ],
      "source": [
        "# Simular precios históricos\n",
        "import pandas as pd\n",
        "import numpy as np\n",
        "\n",
        "precios_simulados = pd.Series(np.random.uniform(150, 200, 20))  # Simulación de precios\n",
        "\n",
        "# Ejemplo de integración\n",
        "precio_entrada = 175.25\n",
        "volatilidad = 2.8\n",
        "precio_actual = 180.00\n",
        "\n",
        "# Calcular Stop-Loss dinámico\n",
        "stop_loss_dinamico = calcular_stop_loss_dinamico(precio_entrada, volatilidad)\n",
        "\n",
        "# Calcular Trailing Stop\n",
        "nuevo_trailing_stop = gestionar_trailing_stop(precio_entrada, precio_actual)\n",
        "\n",
        "# Calcular RSI\n",
        "rsi = calcular_rsi(precios_simulados)\n",
        "\n",
        "# Decisión basada en indicadores\n",
        "if precio_actual <= stop_loss_dinamico:\n",
        "    print(f\"Operación cerrada por Stop-Loss: Precio actual {precio_actual}\")\n",
        "elif precio_actual <= nuevo_trailing_stop:\n",
        "    print(f\"Operación cerrada por Trailing Stop: Precio actual {precio_actual}\")\n",
        "elif rsi > 70:\n",
        "    print(\"Operación cerrada por RSI (sobrecompra).\")\n",
        "else:\n",
        "    print(\"Mantener operación.\")"
      ]
    },
    {
      "cell_type": "code",
      "execution_count": null,
      "id": "BzTQzxik0rJg",
      "metadata": {
        "id": "BzTQzxik0rJg"
      },
      "outputs": [],
      "source": [
        "def gestionar_operacion_dinamica(conexion, oportunidad, saldo_actual):\n",
        "    \"\"\"\n",
        "    Gestiona una operación completa con capital dinámico, Stop-Loss, Trailing Stop y RSI.\n",
        "\n",
        "    Parámetros:\n",
        "        conexion (sqlite3.Connection): Conexión a la base de datos.\n",
        "        oportunidad (dict): Información de la oportunidad detectada.\n",
        "        saldo_actual (float): Saldo disponible.\n",
        "\n",
        "    Retorna:\n",
        "        None\n",
        "    \"\"\"\n",
        "    activo = oportunidad[\"activo\"]\n",
        "    precio_entrada = oportunidad[\"precio\"]\n",
        "    volatilidad = oportunidad[\"volatilidad\"]\n",
        "\n",
        "    # Calcular capital dinámico asignado\n",
        "    capital_asignado = saldo_actual * 0.02  # Ejemplo: 2% del saldo actual\n",
        "\n",
        "    # Simular precios históricos para calcular RSI\n",
        "    precios_simulados = pd.Series(np.random.uniform(precio_entrada * 0.9, precio_entrada * 1.1, 20))\n",
        "    rsi = calcular_rsi(precios_simulados)\n",
        "\n",
        "    # Calcular Stop-Loss y Trailing Stop\n",
        "    stop_loss_dinamico = calcular_stop_loss_dinamico(precio_entrada, volatilidad)\n",
        "    precio_actual = round(precio_entrada * (1 + random.uniform(-0.05, 0.05)), 2)\n",
        "    nuevo_trailing_stop = gestionar_trailing_stop(precio_entrada, precio_actual)\n",
        "\n",
        "    # Evaluar condiciones para cerrar la operación\n",
        "    if precio_actual <= stop_loss_dinamico:\n",
        "        decision = \"stop_loss\"\n",
        "    elif precio_actual <= nuevo_trailing_stop:\n",
        "        decision = \"trailing_stop\"\n",
        "    elif rsi > 70:\n",
        "        decision = \"rsi_sobrecompra\"\n",
        "    else:\n",
        "        decision = \"mantener\"\n",
        "\n",
        "    # Registrar la operación en la base de datos\n",
        "    registrar_operacion(\n",
        "        conexion,\n",
        "        activo=activo,\n",
        "        fecha=\"2024-12-19\",  # Fecha simulada; en producción usaríamos datetime.now()\n",
        "        precio_entrada=precio_entrada,\n",
        "        precio_salida=precio_actual if decision != \"mantener\" else None,\n",
        "        ganancia_perdida=(precio_actual - precio_entrada) if decision != \"mantener\" else None,\n",
        "        tipo_operacion=\"compra\"  # O \"venta\" según corresponda\n",
        "    )\n",
        "\n",
        "    # Mostrar la decisión\n",
        "    print(f\"Activo: {activo} | Precio Entrada: {precio_entrada} | Precio Actual: {precio_actual}\")\n",
        "    print(f\"Decisión: {decision}\")"
      ]
    },
    {
      "cell_type": "code",
      "execution_count": null,
      "id": "VOFNCAdx0xYF",
      "metadata": {
        "colab": {
          "base_uri": "https://localhost:8080/"
        },
        "id": "VOFNCAdx0xYF",
        "outputId": "1fd27160-4d06-4289-f3cc-e3042d5845e9"
      },
      "outputs": [
        {
          "name": "stdout",
          "output_type": "stream",
          "text": [
            "Operación registrada: AAPL, compra\n",
            "Activo: AAPL | Precio Entrada: 175.25 | Precio Actual: 168.91\n",
            "Decisión: stop_loss\n",
            "Operación registrada: GOOG, compra\n",
            "Activo: GOOG | Precio Entrada: 1320.5 | Precio Actual: 1291.03\n",
            "Decisión: stop_loss\n",
            "Operación registrada: TSLA, compra\n",
            "Activo: TSLA | Precio Entrada: 755.1 | Precio Actual: 742.5\n",
            "Decisión: trailing_stop\n"
          ]
        }
      ],
      "source": [
        "# Simulación de oportunidades\n",
        "oportunidades_simuladas = [\n",
        "    {\"activo\": \"AAPL\", \"precio\": 175.25, \"volatilidad\": 2.8},\n",
        "    {\"activo\": \"GOOG\", \"precio\": 1320.50, \"volatilidad\": 1.5},\n",
        "    {\"activo\": \"TSLA\", \"precio\": 755.10, \"volatilidad\": 3.0}\n",
        "]\n",
        "\n",
        "# Saldo inicial dinámico\n",
        "saldo_actual = 10000\n",
        "\n",
        "# Gestionar cada oportunidad\n",
        "for oportunidad in oportunidades_simuladas:\n",
        "    gestionar_operacion_dinamica(conexion, oportunidad, saldo_actual)"
      ]
    },
    {
      "cell_type": "code",
      "execution_count": null,
      "id": "NXTRW6cQ5VqD",
      "metadata": {
        "id": "NXTRW6cQ5VqD"
      },
      "outputs": [],
      "source": [
        "def actualizar_saldo(saldo_actual, ganancia_perdida):\n",
        "    \"\"\"\n",
        "    Actualiza el saldo actual con base en la ganancia o pérdida de una operación.\n",
        "\n",
        "    Parámetros:\n",
        "        saldo_actual (float): Saldo actual disponible.\n",
        "        ganancia_perdida (float): Resultado de la operación (positivo o negativo).\n",
        "\n",
        "    Retorna:\n",
        "        float: Nuevo saldo actualizado.\n",
        "    \"\"\"\n",
        "    return saldo_actual + ganancia_perdida"
      ]
    },
    {
      "cell_type": "code",
      "execution_count": null,
      "id": "QnP4oza8563B",
      "metadata": {
        "colab": {
          "base_uri": "https://localhost:8080/"
        },
        "id": "QnP4oza8563B",
        "outputId": "6e17f39f-930b-458d-f934-7cb57c99fe9c"
      },
      "outputs": [
        {
          "name": "stdout",
          "output_type": "stream",
          "text": [
            "Nuevo saldo: 10250.00\n"
          ]
        }
      ],
      "source": [
        "saldo_actual = 10000\n",
        "ganancia_perdida = 250  # Ejemplo: ganancia de $250\n",
        "saldo_actual = actualizar_saldo(saldo_actual, ganancia_perdida)\n",
        "print(f\"Nuevo saldo: {saldo_actual:.2f}\")"
      ]
    },
    {
      "cell_type": "code",
      "execution_count": null,
      "id": "gjUzceKu6UOa",
      "metadata": {
        "id": "gjUzceKu6UOa"
      },
      "outputs": [],
      "source": [
        "def generar_reporte_diario(conexion, fecha=\"2024-12-19\"):\n",
        "    \"\"\"\n",
        "    Genera un reporte diario del rendimiento del bot.\n",
        "\n",
        "    Parámetros:\n",
        "        conexion (sqlite3.Connection): Conexión a la base de datos.\n",
        "        fecha (str): Fecha del reporte.\n",
        "\n",
        "    Retorna:\n",
        "        None\n",
        "    \"\"\"\n",
        "    cursor = conexion.cursor()\n",
        "\n",
        "    # Consultar número de operaciones realizadas\n",
        "    cursor.execute(\"\"\"\n",
        "        SELECT COUNT(*), SUM(ganancia_perdida) FROM operaciones WHERE fecha = ?\n",
        "    \"\"\", (fecha,))\n",
        "    resultado = cursor.fetchone()\n",
        "    total_operaciones = resultado[0]\n",
        "    ganancia_total = resultado[1] if resultado[1] else 0\n",
        "\n",
        "    # Consultar los activos más negociados\n",
        "    cursor.execute(\"\"\"\n",
        "        SELECT activo, COUNT(*) as conteo FROM operaciones WHERE fecha = ?\n",
        "        GROUP BY activo ORDER BY conteo DESC LIMIT 3\n",
        "    \"\"\", (fecha,))\n",
        "    activos_mas_negociados = cursor.fetchall()\n",
        "\n",
        "    # Mostrar reporte\n",
        "    print(f\"\\nReporte del día {fecha}:\")\n",
        "    print(f\"Operaciones realizadas: {total_operaciones}\")\n",
        "    print(f\"Ganancia/Pérdida total: {ganancia_total:.2f}\")\n",
        "    print(\"Activos más negociados:\")\n",
        "    for activo, conteo in activos_mas_negociados:\n",
        "        print(f\" - {activo}: {conteo} operaciones\")"
      ]
    },
    {
      "cell_type": "code",
      "execution_count": null,
      "id": "CmhyIcm56jWr",
      "metadata": {
        "colab": {
          "base_uri": "https://localhost:8080/"
        },
        "id": "CmhyIcm56jWr",
        "outputId": "c1c766a3-048b-4da6-c787-ff81ce0be897"
      },
      "outputs": [
        {
          "name": "stdout",
          "output_type": "stream",
          "text": [
            "Operaciones registradas:\n",
            "(1, 'AAPL', '2024-12-19', 150.0, None, None, 'compra')\n",
            "(2, 'AAPL', '2024-12-19', 175.5, 180.0, 4.5, 'Compra')\n",
            "(3, 'AAPL', '2024-12-19', 175.5, 180.75, 5.25, 'Compra')\n",
            "(4, 'AAPL', '2024-12-19', 175.25, None, None, 'compra')\n",
            "(5, 'GOOG', '2024-12-19', 2800.5, None, None, 'Compra')\n",
            "(6, 'TSLA', '2024-12-19', 720.75, None, None, 'Venta')\n",
            "(7, 'MSFT', '2024-12-19', 310.1, None, None, 'Compra')\n",
            "(8, 'AAPL', '2024-12-19', 175.25, 168.91, -6.340000000000003, 'compra')\n",
            "(9, 'GOOG', '2024-12-19', 1320.5, 1291.03, -29.470000000000027, 'compra')\n",
            "(10, 'TSLA', '2024-12-19', 755.1, 742.5, -12.600000000000023, 'compra')\n"
          ]
        }
      ],
      "source": [
        "# Consultar todas las operaciones registradas\n",
        "cursor.execute(\"SELECT * FROM operaciones\")\n",
        "operaciones = cursor.fetchall()\n",
        "\n",
        "print(\"Operaciones registradas:\")\n",
        "for operacion in operaciones:\n",
        "    print(operacion)"
      ]
    },
    {
      "cell_type": "code",
      "execution_count": null,
      "id": "0IRzFgeT6yIQ",
      "metadata": {
        "colab": {
          "base_uri": "https://localhost:8080/"
        },
        "id": "0IRzFgeT6yIQ",
        "outputId": "c51a358b-1075-4345-97f4-4b3b5bb67e01"
      },
      "outputs": [
        {
          "name": "stdout",
          "output_type": "stream",
          "text": [
            "\n",
            "Reporte del día 2024-12-19:\n",
            "Operaciones realizadas: 10\n",
            "Ganancia/Pérdida total: -38.66\n",
            "Activos más negociados:\n",
            " - AAPL: 5 operaciones\n",
            " - TSLA: 2 operaciones\n",
            " - GOOG: 2 operaciones\n"
          ]
        }
      ],
      "source": [
        "generar_reporte_diario(conexion, fecha=\"2024-12-19\")"
      ]
    },
    {
      "cell_type": "code",
      "execution_count": null,
      "id": "zD-BOWNV7ueY",
      "metadata": {
        "colab": {
          "base_uri": "https://localhost:8080/"
        },
        "id": "zD-BOWNV7ueY",
        "outputId": "cb62cbfa-a18e-4c92-9fca-9c77b5ca6602"
      },
      "outputs": [
        {
          "name": "stdout",
          "output_type": "stream",
          "text": [
            "Tabla de configuraciones creada.\n"
          ]
        }
      ],
      "source": [
        "# Crear tabla para configuraciones del bot\n",
        "cursor.execute(\"\"\"\n",
        "CREATE TABLE IF NOT EXISTS configuraciones (\n",
        "    id INTEGER PRIMARY KEY AUTOINCREMENT,\n",
        "    parametro TEXT NOT NULL,\n",
        "    valor REAL NOT NULL\n",
        ")\n",
        "\"\"\")\n",
        "conexion.commit()\n",
        "print(\"Tabla de configuraciones creada.\")"
      ]
    },
    {
      "cell_type": "code",
      "execution_count": null,
      "id": "0V5tvwua-FYl",
      "metadata": {
        "colab": {
          "base_uri": "https://localhost:8080/"
        },
        "id": "0V5tvwua-FYl",
        "outputId": "fd73b460-7d95-417a-fcd1-73a021ef05e8"
      },
      "outputs": [
        {
          "name": "stdout",
          "output_type": "stream",
          "text": [
            "Configuraciones iniciales guardadas.\n"
          ]
        }
      ],
      "source": [
        "# Insertar configuraciones iniciales\n",
        "configuraciones_iniciales = [\n",
        "    (\"stop_loss\", 0.02),  # 2% de Stop-Loss\n",
        "    (\"take_profit\", 0.05),  # 5% de Take-Profit\n",
        "    (\"max_operaciones_diarias\", 5),  # Máximo de operaciones por día\n",
        "    (\"max_riesgo_global\", 0.1)  # 10% de riesgo global\n",
        "]\n",
        "\n",
        "for parametro, valor in configuraciones_iniciales:\n",
        "    cursor.execute(\"\"\"\n",
        "        INSERT INTO configuraciones (parametro, valor)\n",
        "        VALUES (?, ?)\n",
        "    \"\"\", (parametro, valor))\n",
        "\n",
        "conexion.commit()\n",
        "print(\"Configuraciones iniciales guardadas.\")"
      ]
    },
    {
      "cell_type": "code",
      "execution_count": null,
      "id": "498Ph5v8-d63",
      "metadata": {
        "id": "498Ph5v8-d63"
      },
      "outputs": [],
      "source": [
        "def obtener_configuracion(conexion, parametro):\n",
        "    \"\"\"\n",
        "    Obtiene el valor de un parámetro desde la base de datos.\n",
        "\n",
        "    Parámetros:\n",
        "        conexion (sqlite3.Connection): Conexión a la base de datos.\n",
        "        parametro (str): Nombre del parámetro a consultar.\n",
        "\n",
        "    Retorna:\n",
        "        float: Valor del parámetro.\n",
        "    \"\"\"\n",
        "    cursor = conexion.cursor()\n",
        "    cursor.execute(\"\"\"\n",
        "        SELECT valor FROM configuraciones WHERE parametro = ?\n",
        "    \"\"\", (parametro,))\n",
        "    resultado = cursor.fetchone()\n",
        "    return resultado[0] if resultado else None"
      ]
    },
    {
      "cell_type": "code",
      "execution_count": null,
      "id": "Vvm2Z_lW-zWo",
      "metadata": {
        "colab": {
          "base_uri": "https://localhost:8080/"
        },
        "id": "Vvm2Z_lW-zWo",
        "outputId": "4de6bbd6-4a17-4c45-f797-3201a97bc451"
      },
      "outputs": [
        {
          "name": "stdout",
          "output_type": "stream",
          "text": [
            "El Stop-Loss actual es: 0.02\n"
          ]
        }
      ],
      "source": [
        "stop_loss = obtener_configuracion(conexion, \"stop_loss\")\n",
        "print(f\"El Stop-Loss actual es: {stop_loss:.2f}\")"
      ]
    },
    {
      "cell_type": "code",
      "execution_count": null,
      "id": "mvrbpXAL-6GO",
      "metadata": {
        "id": "mvrbpXAL-6GO"
      },
      "outputs": [],
      "source": [
        "def actualizar_configuracion(conexion, parametro, nuevo_valor):\n",
        "    \"\"\"\n",
        "    Actualiza el valor de un parámetro en la base de datos.\n",
        "\n",
        "    Parámetros:\n",
        "        conexion (sqlite3.Connection): Conexión a la base de datos.\n",
        "        parametro (str): Nombre del parámetro a actualizar.\n",
        "        nuevo_valor (float): Nuevo valor del parámetro.\n",
        "\n",
        "    Retorna:\n",
        "        None\n",
        "    \"\"\"\n",
        "    cursor = conexion.cursor()\n",
        "    cursor.execute(\"\"\"\n",
        "        UPDATE configuraciones SET valor = ? WHERE parametro = ?\n",
        "    \"\"\", (nuevo_valor, parametro))\n",
        "    conexion.commit()\n",
        "    print(f\"Configuración actualizada: {parametro} = {nuevo_valor}\")"
      ]
    },
    {
      "cell_type": "code",
      "execution_count": null,
      "id": "63izKr9d_A37",
      "metadata": {
        "colab": {
          "base_uri": "https://localhost:8080/"
        },
        "id": "63izKr9d_A37",
        "outputId": "d0d91aab-0861-46dc-8256-612380d04f07"
      },
      "outputs": [
        {
          "name": "stdout",
          "output_type": "stream",
          "text": [
            "Configuración actualizada: stop_loss = 0.03\n"
          ]
        }
      ],
      "source": [
        "actualizar_configuracion(conexion, \"stop_loss\", 0.03)  # Cambiar Stop-Loss a 3%"
      ]
    },
    {
      "cell_type": "code",
      "execution_count": null,
      "id": "iiVgBUCSAoFg",
      "metadata": {
        "id": "iiVgBUCSAoFg"
      },
      "outputs": [],
      "source": [
        "import time\n",
        "\n",
        "def ciclo_diario(conexion, saldo_actual, fecha=\"2024-12-19\"):\n",
        "    \"\"\"\n",
        "    Ejecuta el ciclo completo del bot para un día de operaciones.\n",
        "\n",
        "    Parámetros:\n",
        "        conexion (sqlite3.Connection): Conexión a la base de datos.\n",
        "        saldo_actual (float): Saldo inicial disponible.\n",
        "        fecha (str): Fecha del ciclo de trading (simulación).\n",
        "\n",
        "    Retorna:\n",
        "        str: Resultado del día de operaciones.\n",
        "    \"\"\"\n",
        "    # Recuperar configuraciones dinámicas\n",
        "    stop_loss = obtener_configuracion(conexion, \"stop_loss\")\n",
        "    take_profit = obtener_configuracion(conexion, \"take_profit\")\n",
        "    max_operaciones_diarias = int(obtener_configuracion(conexion, \"max_operaciones_diarias\"))\n",
        "    max_riesgo_global = obtener_configuracion(conexion, \"max_riesgo_global\")\n",
        "\n",
        "    # Consultar operaciones realizadas hoy\n",
        "    cursor = conexion.cursor()\n",
        "    cursor.execute(\"\"\"\n",
        "        SELECT COUNT(*) FROM operaciones WHERE fecha = ?\n",
        "    \"\"\", (fecha,))\n",
        "    operaciones_hoy = cursor.fetchone()[0]\n",
        "\n",
        "    if operaciones_hoy >= max_operaciones_diarias:\n",
        "        return f\"Límite diario alcanzado: {operaciones_hoy} operaciones realizadas.\"\n",
        "\n",
        "    # Simular oportunidades de trading\n",
        "    oportunidades_simuladas = [\n",
        "        {\"activo\": \"AAPL\", \"precio\": 175.25, \"volatilidad\": 2.8},\n",
        "        {\"activo\": \"GOOG\", \"precio\": 1320.50, \"volatilidad\": 1.5},\n",
        "        {\"activo\": \"TSLA\", \"precio\": 755.10, \"volatilidad\": 3.0}\n",
        "    ]\n",
        "\n",
        "    # Calcular capital dinámico\n",
        "    capital_asignado = calcular_capital_dinamico(saldo_actual, max_riesgo_global, oportunidades_simuladas)\n",
        "\n",
        "    if isinstance(capital_asignado, str):\n",
        "        return capital_asignado  # Mensaje de protección\n",
        "\n",
        "    # Ejecutar operaciones\n",
        "    ganancia_diaria = 0\n",
        "    for oportunidad in oportunidades_simuladas:\n",
        "        if operaciones_hoy >= max_operaciones_diarias:\n",
        "            break\n",
        "\n",
        "        activo = oportunidad[\"activo\"]\n",
        "        precio_entrada = oportunidad[\"precio\"]\n",
        "        volatilidad = oportunidad[\"volatilidad\"]\n",
        "        precio_actual = round(precio_entrada * (1 + random.uniform(-0.05, 0.05)), 2)\n",
        "\n",
        "        # Evaluar Stop-Loss y Take-Profit\n",
        "        decision = gestionar_stop_loss_take_profit(precio_entrada, precio_actual, stop_loss, take_profit)\n",
        "\n",
        "        if decision == \"mantener\":\n",
        "            continue\n",
        "\n",
        "        ganancia_perdida = precio_actual - precio_entrada if decision != \"mantener\" else 0\n",
        "        ganancia_diaria += ganancia_perdida\n",
        "\n",
        "        # Actualizar saldo\n",
        "        saldo_actual = actualizar_saldo(saldo_actual, ganancia_perdida)\n",
        "\n",
        "        # Registrar operación\n",
        "        registrar_operacion(\n",
        "            conexion,\n",
        "            activo=activo,\n",
        "            fecha=fecha,\n",
        "            precio_entrada=precio_entrada,\n",
        "            precio_salida=precio_actual,\n",
        "            ganancia_perdida=ganancia_perdida,\n",
        "            tipo_operacion=\"compra\"\n",
        "        )\n",
        "        operaciones_hoy += 1\n",
        "\n",
        "        print(f\"Operación registrada: {activo} | Entrada: {precio_entrada} | Salida: {precio_actual} | Ganancia/Pérdida: {ganancia_perdida:.2f}\")\n",
        "\n",
        "    # Generar reporte al final del día\n",
        "    generar_reporte_diario(conexion, fecha)\n",
        "\n",
        "    return f\"Día finalizado. Ganancia/Pérdida total: {ganancia_diaria:.2f}\""
      ]
    },
    {
      "cell_type": "code",
      "execution_count": null,
      "id": "jax20UmrA2Af",
      "metadata": {
        "colab": {
          "base_uri": "https://localhost:8080/"
        },
        "id": "jax20UmrA2Af",
        "outputId": "ffd29411-b0a4-4b41-c326-a7bc9e7a3167"
      },
      "outputs": [
        {
          "name": "stdout",
          "output_type": "stream",
          "text": [
            "Límite diario alcanzado: 10 operaciones realizadas.\n"
          ]
        }
      ],
      "source": [
        "saldo_inicial = 10000\n",
        "resultado_dia = ciclo_diario(conexion, saldo_inicial)\n",
        "print(resultado_dia)"
      ]
    },
    {
      "cell_type": "code",
      "execution_count": null,
      "id": "QO5WAAU3B06a",
      "metadata": {
        "id": "QO5WAAU3B06a"
      },
      "outputs": [],
      "source": [
        "def ciclo_multidia(conexion, saldo_inicial, dias=5, fecha_inicio=\"2024-12-19\"):\n",
        "    \"\"\"\n",
        "    Ejecuta el bot durante varios días consecutivos, respetando los parámetros definidos.\n",
        "\n",
        "    Parámetros:\n",
        "        conexion (sqlite3.Connection): Conexión a la base de datos.\n",
        "        saldo_inicial (float): Saldo inicial del bot.\n",
        "        dias (int): Número de días a simular.\n",
        "        fecha_inicio (str): Fecha inicial en formato \"YYYY-MM-DD\".\n",
        "\n",
        "    Retorna:\n",
        "        None\n",
        "    \"\"\"\n",
        "    from datetime import datetime, timedelta\n",
        "\n",
        "    # Convertir la fecha inicial en un objeto datetime\n",
        "    fecha_actual = datetime.strptime(fecha_inicio, \"%Y-%m-%d\")\n",
        "    saldo_actual = saldo_inicial\n",
        "\n",
        "    # Ejecutar el ciclo diario por cada día\n",
        "    for i in range(dias):\n",
        "        print(f\"\\nIniciando operaciones para el día: {fecha_actual.strftime('%Y-%m-%d')}\")\n",
        "        resultado = ciclo_diario(conexion, saldo_actual, fecha=fecha_actual.strftime(\"%Y-%m-%d\"))\n",
        "        print(resultado)\n",
        "\n",
        "        # Consultar saldo actualizado después del día de operaciones\n",
        "        cursor = conexion.cursor()\n",
        "        cursor.execute(\"\"\"\n",
        "            SELECT SUM(ganancia_perdida) FROM operaciones\n",
        "            WHERE fecha = ?\n",
        "        \"\"\", (fecha_actual.strftime(\"%Y-%m-%d\"),))\n",
        "        ganancia_dia = cursor.fetchone()[0] or 0\n",
        "        saldo_actual += ganancia_dia\n",
        "\n",
        "        print(f\"Saldo al final del día {fecha_actual.strftime('%Y-%m-%d')}: {saldo_actual:.2f}\")\n",
        "\n",
        "        # Avanzar al siguiente día\n",
        "        fecha_actual += timedelta(days=1)\n",
        "\n",
        "    print(\"\\nSimulación completada. Resumen final:\")\n",
        "    print(f\"Saldo final después de {dias} días: {saldo_actual:.2f}\")\n",
        "    generar_reporte_diario(conexion, fecha=fecha_actual.strftime(\"%Y-%m-%d\"))"
      ]
    },
    {
      "cell_type": "code",
      "execution_count": null,
      "id": "VQdynsHPDPpd",
      "metadata": {
        "id": "VQdynsHPDPpd"
      },
      "outputs": [],
      "source": [
        "def gestionar_stop_loss_take_profit(precio_entrada, precio_actual, stop_loss, take_profit):\n",
        "    \"\"\"\n",
        "    Evalúa si mantener, vender por Stop-Loss, o vender por Take-Profit.\n",
        "\n",
        "    Parámetros:\n",
        "        precio_entrada (float): Precio inicial al entrar en la operación.\n",
        "        precio_actual (float): Precio actual del activo.\n",
        "        stop_loss (float): Nivel de Stop-Loss definido.\n",
        "        take_profit (float): Nivel de Take-Profit definido.\n",
        "\n",
        "    Retorna:\n",
        "        str: \"mantener\", \"vender_stop_loss\", \"vender_take_profit\".\n",
        "    \"\"\"\n",
        "    if precio_actual <= stop_loss:\n",
        "        return \"vender_stop_loss\"\n",
        "    elif precio_actual >= take_profit:\n",
        "        return \"vender_take_profit\"\n",
        "    else:\n",
        "        return \"mantener\""
      ]
    },
    {
      "cell_type": "code",
      "execution_count": null,
      "id": "QufheZ9pDUe8",
      "metadata": {
        "colab": {
          "base_uri": "https://localhost:8080/"
        },
        "id": "QufheZ9pDUe8",
        "outputId": "c6c123fe-ed3b-4984-f814-072cc1b595f3"
      },
      "outputs": [
        {
          "name": "stdout",
          "output_type": "stream",
          "text": [
            "\n",
            "Iniciando operaciones para el día: 2024-12-19\n",
            "Límite diario alcanzado: 10 operaciones realizadas.\n",
            "Saldo al final del día 2024-12-19: 9961.34\n",
            "\n",
            "Iniciando operaciones para el día: 2024-12-20\n",
            "Operación registrada: AAPL, compra\n",
            "Operación registrada: AAPL | Entrada: 175.25 | Salida: 176.61 | Ganancia/Pérdida: 1.36\n",
            "Operación registrada: GOOG, compra\n",
            "Operación registrada: GOOG | Entrada: 1320.5 | Salida: 1337.18 | Ganancia/Pérdida: 16.68\n",
            "Operación registrada: TSLA, compra\n",
            "Operación registrada: TSLA | Entrada: 755.1 | Salida: 758.32 | Ganancia/Pérdida: 3.22\n",
            "\n",
            "Reporte del día 2024-12-20:\n",
            "Operaciones realizadas: 3\n",
            "Ganancia/Pérdida total: 21.26\n",
            "Activos más negociados:\n",
            " - TSLA: 1 operaciones\n",
            " - GOOG: 1 operaciones\n",
            " - AAPL: 1 operaciones\n",
            "Día finalizado. Ganancia/Pérdida total: 21.26\n",
            "Saldo al final del día 2024-12-20: 9982.60\n",
            "\n",
            "Iniciando operaciones para el día: 2024-12-21\n",
            "Operación registrada: AAPL, compra\n",
            "Operación registrada: AAPL | Entrada: 175.25 | Salida: 180.04 | Ganancia/Pérdida: 4.79\n",
            "Operación registrada: GOOG, compra\n",
            "Operación registrada: GOOG | Entrada: 1320.5 | Salida: 1314.26 | Ganancia/Pérdida: -6.24\n",
            "Operación registrada: TSLA, compra\n",
            "Operación registrada: TSLA | Entrada: 755.1 | Salida: 736.97 | Ganancia/Pérdida: -18.13\n",
            "\n",
            "Reporte del día 2024-12-21:\n",
            "Operaciones realizadas: 3\n",
            "Ganancia/Pérdida total: -19.58\n",
            "Activos más negociados:\n",
            " - TSLA: 1 operaciones\n",
            " - GOOG: 1 operaciones\n",
            " - AAPL: 1 operaciones\n",
            "Día finalizado. Ganancia/Pérdida total: -19.58\n",
            "Saldo al final del día 2024-12-21: 9963.02\n",
            "\n",
            "Iniciando operaciones para el día: 2024-12-22\n",
            "Operación registrada: AAPL, compra\n",
            "Operación registrada: AAPL | Entrada: 175.25 | Salida: 180.95 | Ganancia/Pérdida: 5.70\n",
            "Operación registrada: GOOG, compra\n",
            "Operación registrada: GOOG | Entrada: 1320.5 | Salida: 1325.73 | Ganancia/Pérdida: 5.23\n",
            "Operación registrada: TSLA, compra\n",
            "Operación registrada: TSLA | Entrada: 755.1 | Salida: 757.04 | Ganancia/Pérdida: 1.94\n",
            "\n",
            "Reporte del día 2024-12-22:\n",
            "Operaciones realizadas: 3\n",
            "Ganancia/Pérdida total: 12.87\n",
            "Activos más negociados:\n",
            " - TSLA: 1 operaciones\n",
            " - GOOG: 1 operaciones\n",
            " - AAPL: 1 operaciones\n",
            "Día finalizado. Ganancia/Pérdida total: 12.87\n",
            "Saldo al final del día 2024-12-22: 9975.89\n",
            "\n",
            "Iniciando operaciones para el día: 2024-12-23\n",
            "Operación registrada: AAPL, compra\n",
            "Operación registrada: AAPL | Entrada: 175.25 | Salida: 174.98 | Ganancia/Pérdida: -0.27\n",
            "Operación registrada: GOOG, compra\n",
            "Operación registrada: GOOG | Entrada: 1320.5 | Salida: 1297.81 | Ganancia/Pérdida: -22.69\n",
            "Operación registrada: TSLA, compra\n",
            "Operación registrada: TSLA | Entrada: 755.1 | Salida: 748.73 | Ganancia/Pérdida: -6.37\n",
            "\n",
            "Reporte del día 2024-12-23:\n",
            "Operaciones realizadas: 3\n",
            "Ganancia/Pérdida total: -29.33\n",
            "Activos más negociados:\n",
            " - TSLA: 1 operaciones\n",
            " - GOOG: 1 operaciones\n",
            " - AAPL: 1 operaciones\n",
            "Día finalizado. Ganancia/Pérdida total: -29.33\n",
            "Saldo al final del día 2024-12-23: 9946.56\n",
            "\n",
            "Simulación completada. Resumen final:\n",
            "Saldo final después de 5 días: 9946.56\n",
            "\n",
            "Reporte del día 2024-12-24:\n",
            "Operaciones realizadas: 0\n",
            "Ganancia/Pérdida total: 0.00\n",
            "Activos más negociados:\n"
          ]
        }
      ],
      "source": [
        "saldo_inicial = 10000\n",
        "dias_a_simular = 5\n",
        "ciclo_multidia(conexion, saldo_inicial, dias=dias_a_simular, fecha_inicio=\"2024-12-19\")"
      ]
    },
    {
      "cell_type": "code",
      "execution_count": null,
      "id": "tcCh1MXzSsTS",
      "metadata": {
        "colab": {
          "base_uri": "https://localhost:8080/"
        },
        "id": "tcCh1MXzSsTS",
        "outputId": "d664d74c-10d9-449d-9b43-f3f28c008d05"
      },
      "outputs": [
        {
          "name": "stdout",
          "output_type": "stream",
          "text": [
            "       Fecha        Open        High         Low       Close\n",
            "0 2023-01-01   98.811939  101.033144   99.645717   99.749080\n",
            "1 2023-01-02  100.923330  100.818789   99.587800  100.650509\n",
            "2 2023-01-03  100.743209  101.437754  100.033226  101.114497\n",
            "3 2023-01-04  101.328955  103.108922  100.036954  101.311814\n",
            "4 2023-01-05  101.438984  101.836709   99.171668  100.623851\n"
          ]
        }
      ],
      "source": [
        "import pandas as pd\n",
        "import numpy as np\n",
        "\n",
        "# Generar datos históricos simulados\n",
        "np.random.seed(42)\n",
        "fechas = pd.date_range(start=\"2023-01-01\", periods=100)\n",
        "precios = np.cumsum(np.random.uniform(-1, 1, size=100)) + 100\n",
        "\n",
        "datos_historicos = pd.DataFrame({\n",
        "    \"Fecha\": fechas,\n",
        "    \"Open\": precios + np.random.uniform(-1, 1, size=100),\n",
        "    \"High\": precios + np.random.uniform(0, 2, size=100),\n",
        "    \"Low\": precios - np.random.uniform(0, 2, size=100),\n",
        "    \"Close\": precios\n",
        "})\n",
        "print(datos_historicos.head())"
      ]
    },
    {
      "cell_type": "code",
      "execution_count": null,
      "id": "OxPFS8YOSwtS",
      "metadata": {
        "id": "OxPFS8YOSwtS"
      },
      "outputs": [],
      "source": [
        "def calcular_rsi(precios, ventana=14):\n",
        "    \"\"\"\n",
        "    Calcula el RSI (Relative Strength Index) para los datos históricos.\n",
        "\n",
        "    Parámetros:\n",
        "        precios (pd.Series): Serie de precios de cierre.\n",
        "        ventana (int): Número de periodos para calcular el RSI.\n",
        "\n",
        "    Retorna:\n",
        "        pd.Series: RSI calculado.\n",
        "    \"\"\"\n",
        "    delta = precios.diff(1)\n",
        "    ganancias = delta.where(delta > 0, 0)\n",
        "    perdidas = -delta.where(delta < 0, 0)\n",
        "    avg_ganancias = ganancias.rolling(window=ventana).mean()\n",
        "    avg_perdidas = perdidas.rolling(window=ventana).mean()\n",
        "    rs = avg_ganancias / avg_perdidas\n",
        "    rsi = 100 - (100 / (1 + rs))\n",
        "    return rsi\n",
        "\n",
        "# Calcular RSI en los datos históricos\n",
        "datos_historicos[\"RSI\"] = calcular_rsi(datos_historicos[\"Close\"])"
      ]
    },
    {
      "cell_type": "code",
      "execution_count": null,
      "id": "tmsI7egMS2Kc",
      "metadata": {
        "colab": {
          "base_uri": "https://localhost:8080/"
        },
        "id": "tmsI7egMS2Kc",
        "outputId": "de03a697-f80c-4460-f1a5-15ea53f729f6"
      },
      "outputs": [
        {
          "name": "stdout",
          "output_type": "stream",
          "text": [
            "Operación cerrada: Compra a 94.59239043922611, Venta a 97.96701135723337, Ganancia: 3.37\n",
            "Capital final: 10003.37\n"
          ]
        }
      ],
      "source": [
        "capital_inicial = 10000\n",
        "capital = capital_inicial\n",
        "operaciones = []\n",
        "\n",
        "# Reglas básicas: Compra si RSI < 30, Venta si RSI > 70\n",
        "for i in range(1, len(datos_historicos)):\n",
        "    rsi = datos_historicos.loc[i, \"RSI\"]\n",
        "    precio = datos_historicos.loc[i, \"Close\"]\n",
        "\n",
        "    if rsi < 30:\n",
        "        operaciones.append({\"tipo\": \"compra\", \"precio\": precio})\n",
        "    elif rsi > 70 and len(operaciones) > 0:\n",
        "        compra = operaciones.pop()  # Cerrar operación más reciente\n",
        "        ganancia = precio - compra[\"precio\"]\n",
        "        capital += ganancia\n",
        "        print(f\"Operación cerrada: Compra a {compra['precio']}, Venta a {precio}, Ganancia: {ganancia:.2f}\")\n",
        "\n",
        "print(f\"Capital final: {capital:.2f}\")"
      ]
    },
    {
      "cell_type": "code",
      "execution_count": null,
      "id": "mBRJo0ObTy0Q",
      "metadata": {
        "colab": {
          "base_uri": "https://localhost:8080/"
        },
        "id": "mBRJo0ObTy0Q",
        "outputId": "b5f22bb7-e066-47d5-cddf-792f81e9bd1d"
      },
      "outputs": [
        {
          "name": "stdout",
          "output_type": "stream",
          "text": [
            "Capital final: 10000.00\n"
          ]
        }
      ],
      "source": [
        "# Calcular Media Móvil Simple (SMA)\n",
        "datos_historicos[\"SMA_10\"] = datos_historicos[\"Close\"].rolling(window=10).mean()\n",
        "\n",
        "# Nueva simulación combinando RSI y SMA\n",
        "capital = capital_inicial\n",
        "operaciones = []\n",
        "\n",
        "for i in range(10, len(datos_historicos)):  # Comenzar después de calcular SMA\n",
        "    rsi = datos_historicos.loc[i, \"RSI\"]\n",
        "    precio = datos_historicos.loc[i, \"Close\"]\n",
        "    sma = datos_historicos.loc[i, \"SMA_10\"]\n",
        "\n",
        "    # Reglas: RSI + SMA\n",
        "    if rsi < rsi_compra and precio > sma:\n",
        "        operaciones.append({\"tipo\": \"compra\", \"precio\": precio})\n",
        "    elif rsi > rsi_venta and len(operaciones) > 0 and precio < sma:\n",
        "        compra = operaciones.pop()\n",
        "        ganancia = precio - compra[\"precio\"]\n",
        "        capital += ganancia\n",
        "        print(f\"Operación cerrada: Compra a {compra['precio']}, Venta a {precio}, Ganancia: {ganancia:.2f}\")\n",
        "\n",
        "print(f\"Capital final: {capital:.2f}\")"
      ]
    },
    {
      "cell_type": "code",
      "execution_count": null,
      "id": "EsZ4h_4gT3jE",
      "metadata": {
        "colab": {
          "base_uri": "https://localhost:8080/"
        },
        "id": "EsZ4h_4gT3jE",
        "outputId": "f540d2ae-d53a-4c97-877d-8ae0343fa0ff"
      },
      "outputs": [
        {
          "name": "stdout",
          "output_type": "stream",
          "text": [
            "Capital final: 10000.00\n"
          ]
        }
      ],
      "source": [
        "# Calcular MACD\n",
        "datos_historicos[\"EMA_12\"] = datos_historicos[\"Close\"].ewm(span=12, adjust=False).mean()\n",
        "datos_historicos[\"EMA_26\"] = datos_historicos[\"Close\"].ewm(span=26, adjust=False).mean()\n",
        "datos_historicos[\"MACD\"] = datos_historicos[\"EMA_12\"] - datos_historicos[\"EMA_26\"]\n",
        "datos_historicos[\"Signal_Line\"] = datos_historicos[\"MACD\"].ewm(span=9, adjust=False).mean()\n",
        "\n",
        "# Nueva simulación combinando RSI y MACD\n",
        "capital = capital_inicial\n",
        "operaciones = []\n",
        "\n",
        "for i in range(26, len(datos_historicos)):  # Comenzar después de calcular MACD\n",
        "    rsi = datos_historicos.loc[i, \"RSI\"]\n",
        "    precio = datos_historicos.loc[i, \"Close\"]\n",
        "    macd = datos_historicos.loc[i, \"MACD\"]\n",
        "    signal_line = datos_historicos.loc[i, \"Signal_Line\"]\n",
        "\n",
        "    # Reglas: RSI + MACD\n",
        "    if rsi < rsi_compra and macd > signal_line:\n",
        "        operaciones.append({\"tipo\": \"compra\", \"precio\": precio})\n",
        "    elif rsi > rsi_venta and len(operaciones) > 0 and macd < signal_line:\n",
        "        compra = operaciones.pop()\n",
        "        ganancia = precio - compra[\"precio\"]\n",
        "        capital += ganancia\n",
        "        print(f\"Operación cerrada: Compra a {compra['precio']}, Venta a {precio}, Ganancia: {ganancia:.2f}\")\n",
        "\n",
        "print(f\"Capital final: {capital:.2f}\")"
      ]
    },
    {
      "cell_type": "code",
      "execution_count": null,
      "id": "yIJFQZOEUD3Y",
      "metadata": {
        "colab": {
          "base_uri": "https://localhost:8080/"
        },
        "id": "yIJFQZOEUD3Y",
        "outputId": "e2bc8dbd-2403-486d-9428-3fcdf8a90be2"
      },
      "outputs": [
        {
          "name": "stdout",
          "output_type": "stream",
          "text": [
            "Operación cerrada: Compra a 94.59239043922611, Venta a 97.96701135723337, Ganancia: 3.37\n",
            "Capital final: 10003.37\n"
          ]
        }
      ],
      "source": [
        "capital_inicial = 10000\n",
        "capital = capital_inicial\n",
        "operaciones = []\n",
        "\n",
        "# Reglas básicas: Compra si RSI < 30, Venta si RSI > 70\n",
        "for i in range(1, len(datos_historicos)):\n",
        "    rsi = datos_historicos.loc[i, \"RSI\"]\n",
        "    precio = datos_historicos.loc[i, \"Close\"]\n",
        "\n",
        "    if rsi < 30:\n",
        "        operaciones.append({\"tipo\": \"compra\", \"precio\": precio})\n",
        "    elif rsi > 70 and len(operaciones) > 0:\n",
        "        compra = operaciones.pop()  # Cerrar operación más reciente\n",
        "        ganancia = precio - compra[\"precio\"]\n",
        "        capital += ganancia\n",
        "        print(f\"Operación cerrada: Compra a {compra['precio']}, Venta a {precio}, Ganancia: {ganancia:.2f}\")\n",
        "\n",
        "print(f\"Capital final: {capital:.2f}\")"
      ]
    },
    {
      "cell_type": "code",
      "execution_count": null,
      "id": "yeviZaJ0UnuF",
      "metadata": {
        "colab": {
          "base_uri": "https://localhost:8080/"
        },
        "id": "yeviZaJ0UnuF",
        "outputId": "0f381b72-d082-4196-e9ab-620e929c0580"
      },
      "outputs": [
        {
          "name": "stdout",
          "output_type": "stream",
          "text": [
            "Requirement already satisfied: yfinance in /usr/local/lib/python3.10/dist-packages (0.2.50)\n",
            "Requirement already satisfied: pandas>=1.3.0 in /usr/local/lib/python3.10/dist-packages (from yfinance) (2.2.2)\n",
            "Requirement already satisfied: numpy>=1.16.5 in /usr/local/lib/python3.10/dist-packages (from yfinance) (1.26.4)\n",
            "Requirement already satisfied: requests>=2.31 in /usr/local/lib/python3.10/dist-packages (from yfinance) (2.32.3)\n",
            "Requirement already satisfied: multitasking>=0.0.7 in /usr/local/lib/python3.10/dist-packages (from yfinance) (0.0.11)\n",
            "Requirement already satisfied: lxml>=4.9.1 in /usr/local/lib/python3.10/dist-packages (from yfinance) (5.3.0)\n",
            "Requirement already satisfied: platformdirs>=2.0.0 in /usr/local/lib/python3.10/dist-packages (from yfinance) (4.3.6)\n",
            "Requirement already satisfied: pytz>=2022.5 in /usr/local/lib/python3.10/dist-packages (from yfinance) (2024.2)\n",
            "Requirement already satisfied: frozendict>=2.3.4 in /usr/local/lib/python3.10/dist-packages (from yfinance) (2.4.6)\n",
            "Requirement already satisfied: peewee>=3.16.2 in /usr/local/lib/python3.10/dist-packages (from yfinance) (3.17.8)\n",
            "Requirement already satisfied: beautifulsoup4>=4.11.1 in /usr/local/lib/python3.10/dist-packages (from yfinance) (4.12.3)\n",
            "Requirement already satisfied: html5lib>=1.1 in /usr/local/lib/python3.10/dist-packages (from yfinance) (1.1)\n",
            "Requirement already satisfied: soupsieve>1.2 in /usr/local/lib/python3.10/dist-packages (from beautifulsoup4>=4.11.1->yfinance) (2.6)\n",
            "Requirement already satisfied: six>=1.9 in /usr/local/lib/python3.10/dist-packages (from html5lib>=1.1->yfinance) (1.17.0)\n",
            "Requirement already satisfied: webencodings in /usr/local/lib/python3.10/dist-packages (from html5lib>=1.1->yfinance) (0.5.1)\n",
            "Requirement already satisfied: python-dateutil>=2.8.2 in /usr/local/lib/python3.10/dist-packages (from pandas>=1.3.0->yfinance) (2.8.2)\n",
            "Requirement already satisfied: tzdata>=2022.7 in /usr/local/lib/python3.10/dist-packages (from pandas>=1.3.0->yfinance) (2024.2)\n",
            "Requirement already satisfied: charset-normalizer<4,>=2 in /usr/local/lib/python3.10/dist-packages (from requests>=2.31->yfinance) (3.4.0)\n",
            "Requirement already satisfied: idna<4,>=2.5 in /usr/local/lib/python3.10/dist-packages (from requests>=2.31->yfinance) (3.10)\n",
            "Requirement already satisfied: urllib3<3,>=1.21.1 in /usr/local/lib/python3.10/dist-packages (from requests>=2.31->yfinance) (2.2.3)\n",
            "Requirement already satisfied: certifi>=2017.4.17 in /usr/local/lib/python3.10/dist-packages (from requests>=2.31->yfinance) (2024.12.14)\n"
          ]
        }
      ],
      "source": [
        "pip install yfinance"
      ]
    },
    {
      "cell_type": "code",
      "execution_count": null,
      "id": "4Dh5p_C-Ux1z",
      "metadata": {
        "colab": {
          "base_uri": "https://localhost:8080/"
        },
        "id": "4Dh5p_C-Ux1z",
        "outputId": "8a378db4-2f7d-4900-db49-27aa83b10f1a"
      },
      "outputs": [
        {
          "name": "stdout",
          "output_type": "stream",
          "text": [
            "Precio actual de AAPL: 249.79\n",
            "Nombre completo: Apple Inc.\n",
            "                                 Open        High         Low       Close  \\\n",
            "Date                                                                        \n",
            "2024-12-13 00:00:00-05:00  247.820007  249.289993  246.240005  248.130005   \n",
            "2024-12-16 00:00:00-05:00  247.990005  251.380005  247.649994  251.039993   \n",
            "2024-12-17 00:00:00-05:00  250.080002  253.830002  249.779999  253.479996   \n",
            "2024-12-18 00:00:00-05:00  252.160004  254.279999  247.740005  248.050003   \n",
            "2024-12-19 00:00:00-05:00  247.500000  252.000000  247.089996  249.789993   \n",
            "\n",
            "                             Volume  Dividends  Stock Splits  \n",
            "Date                                                          \n",
            "2024-12-13 00:00:00-05:00  33155300        0.0           0.0  \n",
            "2024-12-16 00:00:00-05:00  51694800        0.0           0.0  \n",
            "2024-12-17 00:00:00-05:00  51356400        0.0           0.0  \n",
            "2024-12-18 00:00:00-05:00  56774100        0.0           0.0  \n",
            "2024-12-19 00:00:00-05:00  59903900        0.0           0.0  \n"
          ]
        }
      ],
      "source": [
        "import yfinance as yf\n",
        "\n",
        "# Obtener datos de un activo específico (por ejemplo, Apple)\n",
        "activo = \"AAPL\"\n",
        "datos = yf.Ticker(activo)\n",
        "\n",
        "# Precio actual y datos generales\n",
        "print(f\"Precio actual de {activo}: {datos.info['currentPrice']}\")\n",
        "print(f\"Nombre completo: {datos.info['longName']}\")\n",
        "\n",
        "# Obtener datos históricos\n",
        "historico = datos.history(period=\"5d\")\n",
        "print(historico)"
      ]
    },
    {
      "cell_type": "code",
      "execution_count": null,
      "id": "xbiibtDVWpwm",
      "metadata": {
        "colab": {
          "base_uri": "https://localhost:8080/"
        },
        "id": "xbiibtDVWpwm",
        "outputId": "3417c078-4104-4498-fb8f-f83eff89f9f4"
      },
      "outputs": [
        {
          "output_type": "stream",
          "name": "stdout",
          "text": [
            "Requirement already satisfied: yfinance in /usr/local/lib/python3.10/dist-packages (0.2.50)\n",
            "Requirement already satisfied: requests in /usr/local/lib/python3.10/dist-packages (2.32.3)\n",
            "Requirement already satisfied: beautifulsoup4 in /usr/local/lib/python3.10/dist-packages (4.12.3)\n",
            "Requirement already satisfied: pandas>=1.3.0 in /usr/local/lib/python3.10/dist-packages (from yfinance) (2.2.2)\n",
            "Requirement already satisfied: numpy>=1.16.5 in /usr/local/lib/python3.10/dist-packages (from yfinance) (1.26.4)\n",
            "Requirement already satisfied: multitasking>=0.0.7 in /usr/local/lib/python3.10/dist-packages (from yfinance) (0.0.11)\n",
            "Requirement already satisfied: lxml>=4.9.1 in /usr/local/lib/python3.10/dist-packages (from yfinance) (5.3.0)\n",
            "Requirement already satisfied: platformdirs>=2.0.0 in /usr/local/lib/python3.10/dist-packages (from yfinance) (4.3.6)\n",
            "Requirement already satisfied: pytz>=2022.5 in /usr/local/lib/python3.10/dist-packages (from yfinance) (2024.2)\n",
            "Requirement already satisfied: frozendict>=2.3.4 in /usr/local/lib/python3.10/dist-packages (from yfinance) (2.4.6)\n",
            "Requirement already satisfied: peewee>=3.16.2 in /usr/local/lib/python3.10/dist-packages (from yfinance) (3.17.8)\n",
            "Requirement already satisfied: html5lib>=1.1 in /usr/local/lib/python3.10/dist-packages (from yfinance) (1.1)\n",
            "Requirement already satisfied: charset-normalizer<4,>=2 in /usr/local/lib/python3.10/dist-packages (from requests) (3.4.0)\n",
            "Requirement already satisfied: idna<4,>=2.5 in /usr/local/lib/python3.10/dist-packages (from requests) (3.10)\n",
            "Requirement already satisfied: urllib3<3,>=1.21.1 in /usr/local/lib/python3.10/dist-packages (from requests) (2.2.3)\n",
            "Requirement already satisfied: certifi>=2017.4.17 in /usr/local/lib/python3.10/dist-packages (from requests) (2024.12.14)\n",
            "Requirement already satisfied: soupsieve>1.2 in /usr/local/lib/python3.10/dist-packages (from beautifulsoup4) (2.6)\n",
            "Requirement already satisfied: six>=1.9 in /usr/local/lib/python3.10/dist-packages (from html5lib>=1.1->yfinance) (1.17.0)\n",
            "Requirement already satisfied: webencodings in /usr/local/lib/python3.10/dist-packages (from html5lib>=1.1->yfinance) (0.5.1)\n",
            "Requirement already satisfied: python-dateutil>=2.8.2 in /usr/local/lib/python3.10/dist-packages (from pandas>=1.3.0->yfinance) (2.8.2)\n",
            "Requirement already satisfied: tzdata>=2022.7 in /usr/local/lib/python3.10/dist-packages (from pandas>=1.3.0->yfinance) (2024.2)\n"
          ]
        }
      ],
      "source": [
        "pip install yfinance requests beautifulsoup4"
      ]
    },
    {
      "cell_type": "code",
      "execution_count": null,
      "id": "cipdM92NActl",
      "metadata": {
        "colab": {
          "background_save": true
        },
        "id": "cipdM92NActl"
      },
      "outputs": [],
      "source": [
        "!pip install yahooquery"
      ]
    },
    {
      "cell_type": "code",
      "execution_count": null,
      "id": "TPkLQcwmBvcZ",
      "metadata": {
        "colab": {
          "base_uri": "https://localhost:8080/"
        },
        "id": "TPkLQcwmBvcZ",
        "outputId": "90ce1f37-a26c-478b-b696-dd24092e49da"
      },
      "outputs": [
        {
          "output_type": "stream",
          "name": "stdout",
          "text": [
            "Activo: AAPL\n",
            "Precio actual: No disponible\n",
            "Noticias relevantes:\n",
            "- Apple Enters Smart Home Market with Face ID-Enabled Doorbell and Lock System (https://finance.yahoo.com/m/343e1eb8-49cc-3df5-8d93-27e9074aa79c/apple-enters-smart-home.html)\n",
            "- Why Broadcom Was Rallying Again Today (https://finance.yahoo.com/m/28fdeece-0862-3c7b-84c6-753e1627f67e/why-broadcom-was-rallying.html)\n",
            "- Magnificent Seven Stocks: Meta, Nvidia, Tesla Rally; Apple Hits New High (https://finance.yahoo.com/m/4205eaa9-f620-3a0b-a81a-0e82c7c9fd0b/magnificent-seven-stocks%3A.html)\n",
            "- Apple Set to See Growth Due to iPhone 16 Upgrades, 'Strong' Holiday Season, Wedbush Says (https://finance.yahoo.com/news/apple-set-see-growth-due-171123258.html)\n",
            "- CFPB vs. Walmart, iPhone 16, Apollo and Workday: Top Stocks (https://finance.yahoo.com/video/cfpb-vs-walmart-iphone-16-164544032.html)\n",
            "- Here’s Why Nvidia (NVDA) Is A Long Game, Longer Than You Think (https://finance.yahoo.com/news/why-nvidia-nvda-long-game-162901441.html)\n",
            "- Apple Stock Hits All-Time High: Is the Tech Giant Too Extended? (https://finance.yahoo.com/news/apple-stock-hits-time-high-162600457.html)\n",
            "- Google Counters Breakup Proposals. How Alphabet Stock Could Benefit. (https://finance.yahoo.com/m/8f62b872-05f2-3b80-81cf-0c9d755a0864/google-counters-breakup.html)\n"
          ]
        }
      ],
      "source": [
        "import yfinance as yf\n",
        "\n",
        "def obtener_datos_y_noticias(nombre_activo):\n",
        "    # Crear objeto Ticker\n",
        "    activo = yf.Ticker(nombre_activo)\n",
        "\n",
        "    # Obtener precio actual\n",
        "    precio_actual = activo.info.get('regularMarketPrice', 'No disponible')\n",
        "\n",
        "    # Obtener noticias recientes\n",
        "    noticias = activo.news\n",
        "    noticias_relevantes = [(noticia['title'], noticia['link']) for noticia in noticias] if noticias else \"No hay noticias relevantes\"\n",
        "\n",
        "    return {\n",
        "        \"nombre_activo\": nombre_activo,\n",
        "        \"precio_actual\": precio_actual,\n",
        "        \"noticias\": noticias_relevantes\n",
        "    }\n",
        "\n",
        "# Ejemplo de uso\n",
        "activo = \"AAPL\"  # Cambia esto al símbolo del activo que quieras probar\n",
        "informacion = obtener_datos_y_noticias(activo)\n",
        "\n",
        "print(f\"Activo: {informacion['nombre_activo']}\")\n",
        "print(f\"Precio actual: {informacion['precio_actual']}\")\n",
        "print(\"Noticias relevantes:\")\n",
        "if isinstance(informacion['noticias'], list):\n",
        "    for noticia in informacion['noticias']:\n",
        "        print(f\"- {noticia[0]} ({noticia[1]})\")\n",
        "else:\n",
        "    print(informacion['noticias'])"
      ]
    },
    {
      "cell_type": "code",
      "source": [
        "import nltk\n",
        "\n",
        "# Descargar el lexicón de VADER\n",
        "nltk.download('vader_lexicon')"
      ],
      "metadata": {
        "colab": {
          "base_uri": "https://localhost:8080/"
        },
        "id": "AG3g9CA6IpJE",
        "outputId": "96fd4a6f-3077-4bd0-afbb-4a3a08aac820"
      },
      "id": "AG3g9CA6IpJE",
      "execution_count": null,
      "outputs": [
        {
          "output_type": "stream",
          "name": "stderr",
          "text": [
            "[nltk_data] Downloading package vader_lexicon to /root/nltk_data...\n"
          ]
        },
        {
          "output_type": "execute_result",
          "data": {
            "text/plain": [
              "True"
            ]
          },
          "metadata": {},
          "execution_count": 14
        }
      ]
    },
    {
      "cell_type": "code",
      "source": [
        "import yfinance as yf\n",
        "from nltk.sentiment import SentimentIntensityAnalyzer\n",
        "import nltk\n",
        "\n",
        "# Descargar el lexicón de VADER\n",
        "nltk.download('vader_lexicon')\n",
        "\n",
        "# Inicializa el analizador de sentimiento\n",
        "sia = SentimentIntensityAnalyzer()\n",
        "\n",
        "# Función principal para obtener y categorizar noticias\n",
        "def obtener_noticias_categorizadas(activo, max_noticias=8):\n",
        "    ticker = yf.Ticker(activo)\n",
        "    noticias = ticker.news[:max_noticias]  # Limitar a un número máximo de noticias\n",
        "    noticias_categorizadas = []\n",
        "\n",
        "    for noticia in noticias:\n",
        "        titulo = noticia['title']\n",
        "        resumen = noticia.get('summary', '')  # Algunos pueden no tener resumen\n",
        "        url = noticia['link']\n",
        "\n",
        "        # Analiza el sentimiento de la noticia\n",
        "        sentimiento = sia.polarity_scores(titulo + \" \" + resumen)\n",
        "\n",
        "        # Determina la relevancia\n",
        "        relevancia = clasificar_relevancia(titulo, resumen, sentimiento)\n",
        "\n",
        "        noticias_categorizadas.append({\n",
        "            'titulo': titulo,\n",
        "            'resumen': resumen,\n",
        "            'url': url,\n",
        "            'relevancia': relevancia,\n",
        "            'sentimiento': sentimiento\n",
        "        })\n",
        "\n",
        "    return noticias_categorizadas\n",
        "\n",
        "# Función para clasificar la relevancia de la noticia\n",
        "def clasificar_relevancia(titulo, resumen, sentimiento):\n",
        "    # Palabras clave de alta relevancia\n",
        "    palabras_alta = [\"crisis\", \"récord\", \"quiebra\", \"fusión\", \"demanda\", \"regulación\", \"recesión\"]\n",
        "    palabras_media = [\"ganancias\", \"lanzamiento\", \"expansión\", \"reporte\", \"resultados\"]\n",
        "\n",
        "    # Verifica si hay palabras clave importantes en el título o resumen\n",
        "    alta = any(palabra in (titulo + resumen).lower() for palabra in palabras_alta)\n",
        "    media = any(palabra in (titulo + resumen).lower() for palabra in palabras_media)\n",
        "\n",
        "    # Reglas de clasificación\n",
        "    if alta or sentimiento['compound'] < -0.5:  # Sentimiento muy negativo o palabras clave importantes\n",
        "        return \"Alta\"\n",
        "    elif media or (-0.5 <= sentimiento['compound'] <= 0.5):  # Sentimiento neutral o palabras relevantes\n",
        "        return \"Media\"\n",
        "    else:  # Noticias con poco impacto\n",
        "        return \"Baja\"\n",
        "\n",
        "# Ejemplo de uso con un activo\n",
        "activo = \"AAPL\"  # Cambia esto al ticker del activo deseado\n",
        "noticias_categorizadas = obtener_noticias_categorizadas(activo)\n",
        "\n",
        "# Muestra las noticias categorizadas\n",
        "for noticia in noticias_categorizadas:\n",
        "    print(f\"Título: {noticia['titulo']}\")\n",
        "    print(f\"Relevancia: {noticia['relevancia']}\")\n",
        "    print(f\"Sentimiento: {noticia['sentimiento']}\")\n",
        "    print(f\"URL: {noticia['url']}\\n\")"
      ],
      "metadata": {
        "colab": {
          "base_uri": "https://localhost:8080/"
        },
        "id": "wKUtXbuLIw9Z",
        "outputId": "c5822dad-8ed0-4ec1-e7be-5ca82cce0fc9"
      },
      "id": "wKUtXbuLIw9Z",
      "execution_count": null,
      "outputs": [
        {
          "output_type": "stream",
          "name": "stdout",
          "text": [
            "Título: Apple Enters Smart Home Market with Face ID-Enabled Doorbell and Lock System\n",
            "Relevancia: Media\n",
            "Sentimiento: {'neg': 0.0, 'neu': 0.803, 'pos': 0.197, 'compound': 0.4019}\n",
            "URL: https://finance.yahoo.com/m/343e1eb8-49cc-3df5-8d93-27e9074aa79c/apple-enters-smart-home.html\n",
            "\n",
            "Título: Why Broadcom Was Rallying Again Today\n",
            "Relevancia: Media\n",
            "Sentimiento: {'neg': 0.0, 'neu': 1.0, 'pos': 0.0, 'compound': 0.0}\n",
            "URL: https://finance.yahoo.com/m/28fdeece-0862-3c7b-84c6-753e1627f67e/why-broadcom-was-rallying.html\n",
            "\n",
            "Título: Magnificent Seven Stocks: Meta, Nvidia, Tesla Rally; Apple Hits New High\n",
            "Relevancia: Baja\n",
            "Sentimiento: {'neg': 0.0, 'neu': 0.719, 'pos': 0.281, 'compound': 0.5994}\n",
            "URL: https://finance.yahoo.com/m/4205eaa9-f620-3a0b-a81a-0e82c7c9fd0b/magnificent-seven-stocks%3A.html\n",
            "\n",
            "Título: Apple Set to See Growth Due to iPhone 16 Upgrades, 'Strong' Holiday Season, Wedbush Says\n",
            "Relevancia: Baja\n",
            "Sentimiento: {'neg': 0.0, 'neu': 0.71, 'pos': 0.29, 'compound': 0.6486}\n",
            "URL: https://finance.yahoo.com/news/apple-set-see-growth-due-171123258.html\n",
            "\n",
            "Título: CFPB vs. Walmart, iPhone 16, Apollo and Workday: Top Stocks\n",
            "Relevancia: Media\n",
            "Sentimiento: {'neg': 0.0, 'neu': 0.833, 'pos': 0.167, 'compound': 0.2023}\n",
            "URL: https://finance.yahoo.com/video/cfpb-vs-walmart-iphone-16-164544032.html\n",
            "\n",
            "Título: Here’s Why Nvidia (NVDA) Is A Long Game, Longer Than You Think\n",
            "Relevancia: Media\n",
            "Sentimiento: {'neg': 0.0, 'neu': 1.0, 'pos': 0.0, 'compound': 0.0}\n",
            "URL: https://finance.yahoo.com/news/why-nvidia-nvda-long-game-162901441.html\n",
            "\n",
            "Título: Apple Stock Hits All-Time High: Is the Tech Giant Too Extended?\n",
            "Relevancia: Media\n",
            "Sentimiento: {'neg': 0.0, 'neu': 1.0, 'pos': 0.0, 'compound': 0.0}\n",
            "URL: https://finance.yahoo.com/news/apple-stock-hits-time-high-162600457.html\n",
            "\n",
            "Título: Google Counters Breakup Proposals. How Alphabet Stock Could Benefit.\n",
            "Relevancia: Media\n",
            "Sentimiento: {'neg': 0.0, 'neu': 0.727, 'pos': 0.273, 'compound': 0.4588}\n",
            "URL: https://finance.yahoo.com/m/8f62b872-05f2-3b80-81cf-0c9d755a0864/google-counters-breakup.html\n",
            "\n"
          ]
        },
        {
          "output_type": "stream",
          "name": "stderr",
          "text": [
            "[nltk_data] Downloading package vader_lexicon to /root/nltk_data...\n",
            "[nltk_data]   Package vader_lexicon is already up-to-date!\n"
          ]
        }
      ]
    },
    {
      "cell_type": "code",
      "source": [
        "import time\n",
        "import yfinance as yf\n",
        "from nltk.sentiment import SentimentIntensityAnalyzer\n",
        "import nltk\n",
        "\n",
        "# Descargar el lexicón de VADER\n",
        "nltk.download('vader_lexicon')\n",
        "\n",
        "# Inicializa el analizador de sentimiento\n",
        "sia = SentimentIntensityAnalyzer()\n",
        "\n",
        "# Función principal para obtener y categorizar noticias\n",
        "def obtener_noticias_categorizadas(activo, max_noticias=8):\n",
        "    ticker = yf.Ticker(activo)\n",
        "    noticias = ticker.news[:max_noticias]  # Limitar a un número máximo de noticias\n",
        "    noticias_categorizadas = []\n",
        "\n",
        "    for noticia in noticias:\n",
        "        titulo = noticia['title']\n",
        "        resumen = noticia.get('summary', '')  # Algunos pueden no tener resumen\n",
        "        url = noticia['link']\n",
        "\n",
        "        # Analiza el sentimiento de la noticia\n",
        "        sentimiento = sia.polarity_scores(titulo + \" \" + resumen)\n",
        "\n",
        "        # Determina la relevancia\n",
        "        relevancia = clasificar_relevancia(titulo, resumen, sentimiento)\n",
        "\n",
        "        noticias_categorizadas.append({\n",
        "            'titulo': titulo,\n",
        "            'resumen': resumen,\n",
        "            'url': url,\n",
        "            'relevancia': relevancia,\n",
        "            'sentimiento': sentimiento\n",
        "        })\n",
        "\n",
        "    return noticias_categorizadas\n",
        "\n",
        "# Función para clasificar la relevancia de la noticia\n",
        "def clasificar_relevancia(titulo, resumen, sentimiento):\n",
        "    # Palabras clave de alta relevancia\n",
        "    palabras_alta = [\"crisis\", \"récord\", \"quiebra\", \"fusión\", \"demanda\", \"regulación\", \"recesión\"]\n",
        "    palabras_media = [\"ganancias\", \"lanzamiento\", \"expansión\", \"reporte\", \"resultados\"]\n",
        "\n",
        "    # Verifica si hay palabras clave importantes en el título o resumen\n",
        "    alta = any(palabra in (titulo + resumen).lower() for palabra in palabras_alta)\n",
        "    media = any(palabra in (titulo + resumen).lower() for palabra in palabras_media)\n",
        "\n",
        "    # Reglas de clasificación\n",
        "    if alta or sentimiento['compound'] < -0.5:  # Sentimiento muy negativo o palabras clave importantes\n",
        "        return \"Alta\"\n",
        "    elif media or (-0.5 <= sentimiento['compound'] <= 0.5):  # Sentimiento neutral o palabras relevantes\n",
        "        return \"Media\"\n",
        "    else:  # Noticias con poco impacto\n",
        "        return \"Baja\"\n",
        "\n",
        "# Función para verificar si hay noticias de alta relevancia\n",
        "def verificar_noticias_alta_relevancia(activo):\n",
        "    noticias = obtener_noticias_categorizadas(activo, max_noticias=8)\n",
        "    for noticia in noticias:\n",
        "        if noticia['relevancia'] == \"Alta\":\n",
        "            print(f\"Noticia de alta relevancia detectada para {activo}: {noticia['titulo']}\")\n",
        "            print(f\"URL: {noticia['url']}\")\n",
        "            return True  # Hay noticias de alta relevancia\n",
        "    return False  # No hay noticias de alta relevancia\n",
        "\n",
        "# Función para decidir si abrir una operación con tiempo de espera\n",
        "def decidir_abrir_operacion(activo, tiempo_espera=30):\n",
        "    print(f\"Revisando noticias para el activo {activo} antes de abrir una operación...\")\n",
        "    if verificar_noticias_alta_relevancia(activo):\n",
        "        print(f\"Noticia de alta relevancia detectada. Esperando {tiempo_espera} minutos antes de reintentar...\")\n",
        "        time.sleep(tiempo_espera * 60)  # Convertir minutos a segundos\n",
        "        print(f\"Volviendo a verificar noticias para {activo} después de {tiempo_espera} minutos...\")\n",
        "        if verificar_noticias_alta_relevancia(activo):\n",
        "            print(f\"Sigue habiendo noticias de alta relevancia para {activo}. Operación descartada.\")\n",
        "            return False\n",
        "        else:\n",
        "            print(f\"No se encontraron noticias de alta relevancia para {activo} tras la espera. Procediendo con la operación.\")\n",
        "            return True\n",
        "    else:\n",
        "        print(f\"No se encontraron noticias de alta relevancia para {activo}. Procediendo con la operación.\")\n",
        "        return True\n",
        "\n",
        "# Ejemplo de uso\n",
        "activo = \"AAPL\"  # Cambia esto al ticker del activo deseado\n",
        "if decidir_abrir_operacion(activo, tiempo_espera=30):\n",
        "    print(f\"Abriendo operación para {activo}.\")\n",
        "else:\n",
        "    print(f\"Operación descartada para {activo}.\")"
      ],
      "metadata": {
        "colab": {
          "base_uri": "https://localhost:8080/"
        },
        "id": "YNXc-4KbKVpg",
        "outputId": "97d7e7da-5a92-40d9-fa52-9dcf7dbe9637"
      },
      "id": "YNXc-4KbKVpg",
      "execution_count": null,
      "outputs": [
        {
          "output_type": "stream",
          "name": "stdout",
          "text": [
            "Revisando noticias para el activo AAPL antes de abrir una operación...\n",
            "No se encontraron noticias de alta relevancia para AAPL. Procediendo con la operación.\n",
            "Abriendo operación para AAPL.\n"
          ]
        },
        {
          "output_type": "stream",
          "name": "stderr",
          "text": [
            "[nltk_data] Downloading package vader_lexicon to /root/nltk_data...\n",
            "[nltk_data]   Package vader_lexicon is already up-to-date!\n"
          ]
        }
      ]
    },
    {
      "cell_type": "code",
      "source": [
        "!pip install ib_insync"
      ],
      "metadata": {
        "id": "tsp9LdtWOx5g",
        "outputId": "ccc2d156-24f4-44bd-8286-28db4b8cc1d3",
        "colab": {
          "base_uri": "https://localhost:8080/"
        }
      },
      "id": "tsp9LdtWOx5g",
      "execution_count": null,
      "outputs": [
        {
          "output_type": "stream",
          "name": "stdout",
          "text": [
            "Collecting ib_insync\n",
            "  Downloading ib_insync-0.9.86-py3-none-any.whl.metadata (5.4 kB)\n",
            "Collecting eventkit (from ib_insync)\n",
            "  Downloading eventkit-1.0.3-py3-none-any.whl.metadata (5.4 kB)\n",
            "Requirement already satisfied: nest-asyncio in /usr/local/lib/python3.10/dist-packages (from ib_insync) (1.6.0)\n",
            "Requirement already satisfied: numpy in /usr/local/lib/python3.10/dist-packages (from eventkit->ib_insync) (1.26.4)\n",
            "Downloading ib_insync-0.9.86-py3-none-any.whl (72 kB)\n",
            "\u001b[2K   \u001b[90m━━━━━━━━━━━━━━━━━━━━━━━━━━━━━━━━━━━━━━━━\u001b[0m \u001b[32m73.0/73.0 kB\u001b[0m \u001b[31m1.9 MB/s\u001b[0m eta \u001b[36m0:00:00\u001b[0m\n",
            "\u001b[?25hDownloading eventkit-1.0.3-py3-none-any.whl (31 kB)\n",
            "Installing collected packages: eventkit, ib_insync\n",
            "Successfully installed eventkit-1.0.3 ib_insync-0.9.86\n"
          ]
        }
      ]
    },
    {
      "cell_type": "code",
      "source": [
        "!pip install paramiko"
      ],
      "metadata": {
        "colab": {
          "base_uri": "https://localhost:8080/"
        },
        "id": "i9xoNGcBVAn2",
        "outputId": "2023301b-3e95-416b-8091-4f23a5b15672"
      },
      "id": "i9xoNGcBVAn2",
      "execution_count": null,
      "outputs": [
        {
          "output_type": "stream",
          "name": "stdout",
          "text": [
            "Collecting paramiko\n",
            "  Downloading paramiko-3.5.0-py3-none-any.whl.metadata (4.4 kB)\n",
            "Collecting bcrypt>=3.2 (from paramiko)\n",
            "  Downloading bcrypt-4.2.1-cp39-abi3-manylinux_2_28_x86_64.whl.metadata (9.8 kB)\n",
            "Requirement already satisfied: cryptography>=3.3 in /usr/local/lib/python3.10/dist-packages (from paramiko) (43.0.3)\n",
            "Collecting pynacl>=1.5 (from paramiko)\n",
            "  Downloading PyNaCl-1.5.0-cp36-abi3-manylinux_2_17_x86_64.manylinux2014_x86_64.manylinux_2_24_x86_64.whl.metadata (8.6 kB)\n",
            "Requirement already satisfied: cffi>=1.12 in /usr/local/lib/python3.10/dist-packages (from cryptography>=3.3->paramiko) (1.17.1)\n",
            "Requirement already satisfied: pycparser in /usr/local/lib/python3.10/dist-packages (from cffi>=1.12->cryptography>=3.3->paramiko) (2.22)\n",
            "Downloading paramiko-3.5.0-py3-none-any.whl (227 kB)\n",
            "\u001b[2K   \u001b[90m━━━━━━━━━━━━━━━━━━━━━━━━━━━━━━━━━━━━━━━━\u001b[0m \u001b[32m227.1/227.1 kB\u001b[0m \u001b[31m7.7 MB/s\u001b[0m eta \u001b[36m0:00:00\u001b[0m\n",
            "\u001b[?25hDownloading bcrypt-4.2.1-cp39-abi3-manylinux_2_28_x86_64.whl (278 kB)\n",
            "\u001b[2K   \u001b[90m━━━━━━━━━━━━━━━━━━━━━━━━━━━━━━━━━━━━━━━━\u001b[0m \u001b[32m278.6/278.6 kB\u001b[0m \u001b[31m15.3 MB/s\u001b[0m eta \u001b[36m0:00:00\u001b[0m\n",
            "\u001b[?25hDownloading PyNaCl-1.5.0-cp36-abi3-manylinux_2_17_x86_64.manylinux2014_x86_64.manylinux_2_24_x86_64.whl (856 kB)\n",
            "\u001b[2K   \u001b[90m━━━━━━━━━━━━━━━━━━━━━━━━━━━━━━━━━━━━━━━━\u001b[0m \u001b[32m856.7/856.7 kB\u001b[0m \u001b[31m47.5 MB/s\u001b[0m eta \u001b[36m0:00:00\u001b[0m\n",
            "\u001b[?25hInstalling collected packages: bcrypt, pynacl, paramiko\n",
            "Successfully installed bcrypt-4.2.1 paramiko-3.5.0 pynacl-1.5.0\n"
          ]
        }
      ]
    }
  ],
  "metadata": {
    "colab": {
      "provenance": [],
      "include_colab_link": true
    },
    "kernelspec": {
      "display_name": "Python 3 (ipykernel)",
      "language": "python",
      "name": "python3"
    },
    "language_info": {
      "codemirror_mode": {
        "name": "ipython",
        "version": 3
      },
      "file_extension": ".py",
      "mimetype": "text/x-python",
      "name": "python",
      "nbconvert_exporter": "python",
      "pygments_lexer": "ipython3",
      "version": "3.10.14"
    }
  },
  "nbformat": 4,
  "nbformat_minor": 5
}